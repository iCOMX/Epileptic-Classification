{
  "nbformat": 4,
  "nbformat_minor": 0,
  "metadata": {
    "anaconda-cloud": {},
    "kernelspec": {
      "display_name": "Python [conda root]",
      "language": "python",
      "name": "conda-root-py"
    },
    "language_info": {
      "codemirror_mode": {
        "name": "ipython",
        "version": 3
      },
      "file_extension": ".py",
      "mimetype": "text/x-python",
      "name": "python",
      "nbconvert_exporter": "python",
      "pygments_lexer": "ipython3",
      "version": "3.5.3"
    },
    "colab": {
      "name": "Seizure_level1.ipynb",
      "provenance": [],
      "collapsed_sections": [],
      "toc_visible": true,
      "include_colab_link": true
    }
  },
  "cells": [
    {
      "cell_type": "markdown",
      "metadata": {
        "id": "view-in-github",
        "colab_type": "text"
      },
      "source": [
        "<a href=\"https://colab.research.google.com/github/lasnabunan/Epileptic-Classification/blob/master/Seizure_level1.ipynb\" target=\"_parent\"><img src=\"https://colab.research.google.com/assets/colab-badge.svg\" alt=\"Open In Colab\"/></a>"
      ]
    },
    {
      "cell_type": "markdown",
      "metadata": {
        "id": "-04L3eaogoZj",
        "colab_type": "text"
      },
      "source": [
        "#INSTALL REQUIREMENTS"
      ]
    },
    {
      "cell_type": "code",
      "metadata": {
        "id": "BBEQvv7Q_fji",
        "colab_type": "code",
        "colab": {
          "base_uri": "https://localhost:8080/",
          "height": 33
        },
        "outputId": "6e7278ec-0a53-4ae1-ed9d-40f5b4255225"
      },
      "source": [
        "from google.colab import drive\n",
        "drive.mount('/content/drive')"
      ],
      "execution_count": null,
      "outputs": [
        {
          "output_type": "stream",
          "text": [
            "Drive already mounted at /content/drive; to attempt to forcibly remount, call drive.mount(\"/content/drive\", force_remount=True).\n"
          ],
          "name": "stdout"
        }
      ]
    },
    {
      "cell_type": "code",
      "metadata": {
        "id": "NC74MyIT_4JI",
        "colab_type": "code",
        "colab": {
          "base_uri": "https://localhost:8080/",
          "height": 82
        },
        "outputId": "6114f125-5d8e-4ec2-a19a-89c60261d85c"
      },
      "source": [
        "!ls /content/drive/My\\ Drive/Seizure/Dataset/Epileptic\\ Seizures\n",
        "%cd /content/drive/My\\ Drive/Seizure/Dataset/Epileptic\\ Seizures"
      ],
      "execution_count": null,
      "outputs": [
        {
          "output_type": "stream",
          "text": [
            "Main.ipynb   Seizure\t\t   Seizure_level3.ipynb  Seizure_level6.ipynb\n",
            "Non-Seizure  Seizure_level1.ipynb  Seizure_level4.ipynb\n",
            "ns.png\t     Seizure_level2.ipynb  Seizure_level5.ipynb\n",
            "/content/drive/My Drive/Seizure/Dataset/Epileptic Seizures\n"
          ],
          "name": "stdout"
        }
      ]
    },
    {
      "cell_type": "markdown",
      "metadata": {
        "id": "1KEKMtxyRbbB",
        "colab_type": "text"
      },
      "source": [
        ""
      ]
    },
    {
      "cell_type": "code",
      "metadata": {
        "id": "lqe8Auf8BZ_5",
        "colab_type": "code",
        "colab": {
          "base_uri": "https://localhost:8080/",
          "height": 1000
        },
        "outputId": "93452c96-d77e-4cc3-bcd4-060fd2066b9b"
      },
      "source": [
        "%cd /content/drive/My\\ Drive/Seizure/Dataset/EEG\\ Signals/pyeeg\n",
        "!ls\n",
        "!python setup.py install\n",
        "%cd /content/drive/My\\ Drive/Seizure/Dataset/Epileptic\\ Seizures"
      ],
      "execution_count": null,
      "outputs": [
        {
          "output_type": "stream",
          "text": [
            "/content/drive/My Drive/Seizure/Dataset/EEG Signals/pyeeg\n",
            "build  fig2.png     pyeeg\t    README.md  setup.py\n",
            "dist   LICENSE.txt  pyeeg.egg-info  setup.cfg  tests\n",
            "running install\n",
            "running bdist_egg\n",
            "running egg_info\n",
            "writing pyeeg.egg-info/PKG-INFO\n",
            "writing dependency_links to pyeeg.egg-info/dependency_links.txt\n",
            "writing requirements to pyeeg.egg-info/requires.txt\n",
            "writing top-level names to pyeeg.egg-info/top_level.txt\n",
            "writing manifest file 'pyeeg.egg-info/SOURCES.txt'\n",
            "installing library code to build/bdist.linux-x86_64/egg\n",
            "running install_lib\n",
            "running build_py\n",
            "creating build/bdist.linux-x86_64/egg\n",
            "creating build/bdist.linux-x86_64/egg/pyeeg\n",
            "copying build/lib/pyeeg/hjorth_mobility_complexity.py -> build/bdist.linux-x86_64/egg/pyeeg\n",
            "copying build/lib/pyeeg/__init__.py -> build/bdist.linux-x86_64/egg/pyeeg\n",
            "copying build/lib/pyeeg/fisher_info.py -> build/bdist.linux-x86_64/egg/pyeeg\n",
            "copying build/lib/pyeeg/largest_lyauponov_exponent.py -> build/bdist.linux-x86_64/egg/pyeeg\n",
            "copying build/lib/pyeeg/information_based_similarity.py -> build/bdist.linux-x86_64/egg/pyeeg\n",
            "copying build/lib/pyeeg/fractal_dimension.py -> build/bdist.linux-x86_64/egg/pyeeg\n",
            "copying build/lib/pyeeg/hurst.py -> build/bdist.linux-x86_64/egg/pyeeg\n",
            "copying build/lib/pyeeg/embedded_sequence.py -> build/bdist.linux-x86_64/egg/pyeeg\n",
            "copying build/lib/pyeeg/entropy.py -> build/bdist.linux-x86_64/egg/pyeeg\n",
            "copying build/lib/pyeeg/detrended_fluctuation_analysis.py -> build/bdist.linux-x86_64/egg/pyeeg\n",
            "copying build/lib/pyeeg/spectrum.py -> build/bdist.linux-x86_64/egg/pyeeg\n",
            "byte-compiling build/bdist.linux-x86_64/egg/pyeeg/hjorth_mobility_complexity.py to hjorth_mobility_complexity.cpython-36.pyc\n",
            "byte-compiling build/bdist.linux-x86_64/egg/pyeeg/__init__.py to __init__.cpython-36.pyc\n",
            "byte-compiling build/bdist.linux-x86_64/egg/pyeeg/fisher_info.py to fisher_info.cpython-36.pyc\n",
            "byte-compiling build/bdist.linux-x86_64/egg/pyeeg/largest_lyauponov_exponent.py to largest_lyauponov_exponent.cpython-36.pyc\n",
            "byte-compiling build/bdist.linux-x86_64/egg/pyeeg/information_based_similarity.py to information_based_similarity.cpython-36.pyc\n",
            "byte-compiling build/bdist.linux-x86_64/egg/pyeeg/fractal_dimension.py to fractal_dimension.cpython-36.pyc\n",
            "byte-compiling build/bdist.linux-x86_64/egg/pyeeg/hurst.py to hurst.cpython-36.pyc\n",
            "byte-compiling build/bdist.linux-x86_64/egg/pyeeg/embedded_sequence.py to embedded_sequence.cpython-36.pyc\n",
            "byte-compiling build/bdist.linux-x86_64/egg/pyeeg/entropy.py to entropy.cpython-36.pyc\n",
            "byte-compiling build/bdist.linux-x86_64/egg/pyeeg/detrended_fluctuation_analysis.py to detrended_fluctuation_analysis.cpython-36.pyc\n",
            "byte-compiling build/bdist.linux-x86_64/egg/pyeeg/spectrum.py to spectrum.cpython-36.pyc\n",
            "creating build/bdist.linux-x86_64/egg/EGG-INFO\n",
            "copying pyeeg.egg-info/PKG-INFO -> build/bdist.linux-x86_64/egg/EGG-INFO\n",
            "copying pyeeg.egg-info/SOURCES.txt -> build/bdist.linux-x86_64/egg/EGG-INFO\n",
            "copying pyeeg.egg-info/dependency_links.txt -> build/bdist.linux-x86_64/egg/EGG-INFO\n",
            "copying pyeeg.egg-info/requires.txt -> build/bdist.linux-x86_64/egg/EGG-INFO\n",
            "copying pyeeg.egg-info/top_level.txt -> build/bdist.linux-x86_64/egg/EGG-INFO\n",
            "zip_safe flag not set; analyzing archive contents...\n",
            "creating 'dist/pyeeg-0.4.4-py3.6.egg' and adding 'build/bdist.linux-x86_64/egg' to it\n",
            "removing 'build/bdist.linux-x86_64/egg' (and everything under it)\n",
            "Processing pyeeg-0.4.4-py3.6.egg\n",
            "Removing /usr/local/lib/python3.6/dist-packages/pyeeg-0.4.4-py3.6.egg\n",
            "Copying pyeeg-0.4.4-py3.6.egg to /usr/local/lib/python3.6/dist-packages\n",
            "pyeeg 0.4.4 is already the active version in easy-install.pth\n",
            "\n",
            "Installed /usr/local/lib/python3.6/dist-packages/pyeeg-0.4.4-py3.6.egg\n",
            "Processing dependencies for pyeeg==0.4.4\n",
            "Searching for numpy==1.18.5\n",
            "Best match: numpy 1.18.5\n",
            "Adding numpy 1.18.5 to easy-install.pth file\n",
            "Installing f2py script to /usr/local/bin\n",
            "Installing f2py3 script to /usr/local/bin\n",
            "Installing f2py3.6 script to /usr/local/bin\n",
            "\n",
            "Using /usr/local/lib/python3.6/dist-packages\n",
            "Finished processing dependencies for pyeeg==0.4.4\n",
            "/content/drive/My Drive/Seizure/Dataset/Epileptic Seizures\n"
          ],
          "name": "stdout"
        }
      ]
    },
    {
      "cell_type": "code",
      "metadata": {
        "id": "NvW5fTVYgh2P",
        "colab_type": "code",
        "colab": {
          "base_uri": "https://localhost:8080/",
          "height": 50
        },
        "outputId": "9b9a9821-0be6-447f-86d0-5a627744e507"
      },
      "source": [
        "pip install pyrenn"
      ],
      "execution_count": null,
      "outputs": [
        {
          "output_type": "stream",
          "text": [
            "Requirement already satisfied: pyrenn in /usr/local/lib/python3.6/dist-packages (0.1)\n",
            "Requirement already satisfied: numpy in /usr/local/lib/python3.6/dist-packages (from pyrenn) (1.18.5)\n"
          ],
          "name": "stdout"
        }
      ]
    },
    {
      "cell_type": "markdown",
      "metadata": {
        "id": "4-yg54FQ88xg",
        "colab_type": "text"
      },
      "source": [
        "#IMPORT LIBRARIES"
      ]
    },
    {
      "cell_type": "code",
      "metadata": {
        "id": "Sx9Villb88xm",
        "colab_type": "code",
        "colab": {}
      },
      "source": [
        "import numpy as np\n",
        "import pandas as pd\n",
        "import matplotlib.pyplot as plt\n",
        "from time import sleep\n",
        "import os\n",
        "import warnings\n",
        "import pywt\n",
        "import tensorflow as tf\n",
        "import pyeeg\n",
        "import pyrenn as prn\n",
        "from tensorflow.keras.wrappers.scikit_learn import KerasClassifier\n",
        "from sklearn.model_selection import cross_val_score\n",
        "\n",
        "%matplotlib inline\n",
        "warnings.filterwarnings(\"ignore\", category=np.VisibleDeprecationWarning) "
      ],
      "execution_count": null,
      "outputs": []
    },
    {
      "cell_type": "markdown",
      "metadata": {
        "id": "eEP-H_1A88xt",
        "colab_type": "text"
      },
      "source": [
        "#LOAD FILES FROM FOLDERS"
      ]
    },
    {
      "cell_type": "code",
      "metadata": {
        "id": "zrI8vHyt88xu",
        "colab_type": "code",
        "colab": {}
      },
      "source": [
        "# import each and every file\n",
        "\n",
        "dirA=\"./Non-Seizure/Set A/\"\n",
        "tempA = []\n",
        "for file in os.listdir(dirA):\n",
        "    fl = dirA + file\n",
        "    tempA.append(fl)\n",
        "tempB = sorted(tempA)          # class: 0     val:  -1\n",
        "\n",
        "dirB=\"./Non-Seizure/Set B/\"\n",
        "tempB = []\n",
        "for file in os.listdir(dirB):\n",
        "    fl = dirB + file\n",
        "    tempB.append(fl)\n",
        "tempB = sorted(tempB)          # class: 0     val:  -1\n",
        "\n",
        "dirC=\"./Non-Seizure/Set C/\"\n",
        "tempC = []\n",
        "for file in os.listdir(dirC):\n",
        "    fl = dirC + file\n",
        "    tempC.append(fl)\n",
        "tempC = sorted(tempC)          # class:0       val: -1\n",
        "    \n",
        "dirD=\"./Non-Seizure/Set D/\"\n",
        "tempD = []\n",
        "for file in os.listdir(dirD):\n",
        "    fl = dirD + file\n",
        "    tempD.append(fl)\n",
        "tempD = sorted(tempD)          # class: 0        val: -1\n",
        "\n",
        "\n",
        "dirE=\"./Seizure/Set E/\"\n",
        "tempE = []\n",
        "for file in os.listdir(dirE):\n",
        "    fl = dirE + file\n",
        "    tempE.append(fl)\n",
        "tempE = sorted(tempE)          # class: 1     val:  0"
      ],
      "execution_count": null,
      "outputs": []
    },
    {
      "cell_type": "markdown",
      "metadata": {
        "id": "C4OUQbDZ88x2",
        "colab_type": "text"
      },
      "source": [
        "## CREATE SMALL TABLES"
      ]
    },
    {
      "cell_type": "code",
      "metadata": {
        "id": "Pu8x7_E588x3",
        "colab_type": "code",
        "colab": {}
      },
      "source": [
        "ta=[]\n",
        "st = 'A'\n",
        "for i in range(len(tempA)):\n",
        "    x = pd.read_csv(tempA[i],header=None)\n",
        "    x.columns=[st+str(i)]\n",
        "    ta.append(x)\n",
        "\n",
        "tb=[]\n",
        "st = 'A'\n",
        "for i in range(len(tempB)):\n",
        "    x = pd.read_csv(tempB[i],header=None)\n",
        "    x.columns=[st+str(i)]\n",
        "    tb.append(x)\n",
        "\n",
        "td=[]\n",
        "st = 'A'\n",
        "for i in range(len(tempD)):\n",
        "    x = pd.read_csv(tempD[i],header=None)\n",
        "    x.columns=[st+str(i)]\n",
        "    td.append(x)\n",
        "    \n",
        "tc=[]\n",
        "st = 'A'\n",
        "for i in range(len(tempC)):\n",
        "    x = pd.read_csv(tempC[i],header=None)\n",
        "    x.columns=[st+str(i)]\n",
        "    tc.append(x)\n",
        "    \n",
        "te=[]\n",
        "st = 'A'\n",
        "for i in range(len(tempE)):\n",
        "    x = pd.read_csv(tempE[i],header=None)\n",
        "    x.columns=[st+str(i)]\n",
        "    te.append(x)"
      ],
      "execution_count": null,
      "outputs": []
    },
    {
      "cell_type": "markdown",
      "metadata": {
        "id": "3GoKb3Ws88x9",
        "colab_type": "text"
      },
      "source": [
        "##CREATE BIG TABLES"
      ]
    },
    {
      "cell_type": "code",
      "metadata": {
        "id": "deOY0ASn88x-",
        "colab_type": "code",
        "colab": {}
      },
      "source": [
        "def table(table):\n",
        "    big_table = None\n",
        "    for tf in table:\n",
        "        big_table = pd.concat([big_table, tf],axis=1)\n",
        "    return big_table"
      ],
      "execution_count": null,
      "outputs": []
    },
    {
      "cell_type": "code",
      "metadata": {
        "id": "9RiLSQCs88yF",
        "colab_type": "code",
        "colab": {}
      },
      "source": [
        "bigA = table(ta)\n",
        "bigB = table(tb)\n",
        "bigC = table(tc)\n",
        "bigD = table(td)\n",
        "bigE = table(te)\n",
        "\n",
        "head = list(bigB.columns.values)"
      ],
      "execution_count": null,
      "outputs": []
    },
    {
      "cell_type": "code",
      "metadata": {
        "id": "Fg6Bidd988yK",
        "colab_type": "code",
        "colab": {
          "base_uri": "https://localhost:8080/",
          "height": 50
        },
        "outputId": "9b84a817-310a-406e-a292-e54fb8d32594"
      },
      "source": [
        "print(len(bigB.axes[0]))\n",
        "print(len(bigB.axes[1]))"
      ],
      "execution_count": null,
      "outputs": [
        {
          "output_type": "stream",
          "text": [
            "4097\n",
            "100\n"
          ],
          "name": "stdout"
        }
      ]
    },
    {
      "cell_type": "code",
      "metadata": {
        "id": "NL4AC_8u88yV",
        "colab_type": "code",
        "colab": {
          "base_uri": "https://localhost:8080/",
          "height": 382
        },
        "outputId": "fa0731a0-48ff-44f0-d7f6-9b280fa4770f"
      },
      "source": [
        "bigB.head(10)"
      ],
      "execution_count": null,
      "outputs": [
        {
          "output_type": "execute_result",
          "data": {
            "text/html": [
              "<div>\n",
              "<style scoped>\n",
              "    .dataframe tbody tr th:only-of-type {\n",
              "        vertical-align: middle;\n",
              "    }\n",
              "\n",
              "    .dataframe tbody tr th {\n",
              "        vertical-align: top;\n",
              "    }\n",
              "\n",
              "    .dataframe thead th {\n",
              "        text-align: right;\n",
              "    }\n",
              "</style>\n",
              "<table border=\"1\" class=\"dataframe\">\n",
              "  <thead>\n",
              "    <tr style=\"text-align: right;\">\n",
              "      <th></th>\n",
              "      <th>A0</th>\n",
              "      <th>A1</th>\n",
              "      <th>A2</th>\n",
              "      <th>A3</th>\n",
              "      <th>A4</th>\n",
              "      <th>A5</th>\n",
              "      <th>A6</th>\n",
              "      <th>A7</th>\n",
              "      <th>A8</th>\n",
              "      <th>A9</th>\n",
              "      <th>A10</th>\n",
              "      <th>A11</th>\n",
              "      <th>A12</th>\n",
              "      <th>A13</th>\n",
              "      <th>A14</th>\n",
              "      <th>A15</th>\n",
              "      <th>A16</th>\n",
              "      <th>A17</th>\n",
              "      <th>A18</th>\n",
              "      <th>A19</th>\n",
              "      <th>A20</th>\n",
              "      <th>A21</th>\n",
              "      <th>A22</th>\n",
              "      <th>A23</th>\n",
              "      <th>A24</th>\n",
              "      <th>A25</th>\n",
              "      <th>A26</th>\n",
              "      <th>A27</th>\n",
              "      <th>A28</th>\n",
              "      <th>A29</th>\n",
              "      <th>A30</th>\n",
              "      <th>A31</th>\n",
              "      <th>A32</th>\n",
              "      <th>A33</th>\n",
              "      <th>A34</th>\n",
              "      <th>A35</th>\n",
              "      <th>A36</th>\n",
              "      <th>A37</th>\n",
              "      <th>A38</th>\n",
              "      <th>A39</th>\n",
              "      <th>...</th>\n",
              "      <th>A60</th>\n",
              "      <th>A61</th>\n",
              "      <th>A62</th>\n",
              "      <th>A63</th>\n",
              "      <th>A64</th>\n",
              "      <th>A65</th>\n",
              "      <th>A66</th>\n",
              "      <th>A67</th>\n",
              "      <th>A68</th>\n",
              "      <th>A69</th>\n",
              "      <th>A70</th>\n",
              "      <th>A71</th>\n",
              "      <th>A72</th>\n",
              "      <th>A73</th>\n",
              "      <th>A74</th>\n",
              "      <th>A75</th>\n",
              "      <th>A76</th>\n",
              "      <th>A77</th>\n",
              "      <th>A78</th>\n",
              "      <th>A79</th>\n",
              "      <th>A80</th>\n",
              "      <th>A81</th>\n",
              "      <th>A82</th>\n",
              "      <th>A83</th>\n",
              "      <th>A84</th>\n",
              "      <th>A85</th>\n",
              "      <th>A86</th>\n",
              "      <th>A87</th>\n",
              "      <th>A88</th>\n",
              "      <th>A89</th>\n",
              "      <th>A90</th>\n",
              "      <th>A91</th>\n",
              "      <th>A92</th>\n",
              "      <th>A93</th>\n",
              "      <th>A94</th>\n",
              "      <th>A95</th>\n",
              "      <th>A96</th>\n",
              "      <th>A97</th>\n",
              "      <th>A98</th>\n",
              "      <th>A99</th>\n",
              "    </tr>\n",
              "  </thead>\n",
              "  <tbody>\n",
              "    <tr>\n",
              "      <th>0</th>\n",
              "      <td>-24</td>\n",
              "      <td>-55</td>\n",
              "      <td>-36</td>\n",
              "      <td>-14</td>\n",
              "      <td>-58</td>\n",
              "      <td>87</td>\n",
              "      <td>-52</td>\n",
              "      <td>2</td>\n",
              "      <td>8</td>\n",
              "      <td>-53</td>\n",
              "      <td>-159</td>\n",
              "      <td>18</td>\n",
              "      <td>-69</td>\n",
              "      <td>29</td>\n",
              "      <td>142</td>\n",
              "      <td>41</td>\n",
              "      <td>-43</td>\n",
              "      <td>71</td>\n",
              "      <td>14</td>\n",
              "      <td>-27</td>\n",
              "      <td>-35</td>\n",
              "      <td>15</td>\n",
              "      <td>5</td>\n",
              "      <td>-134</td>\n",
              "      <td>7</td>\n",
              "      <td>-84</td>\n",
              "      <td>-49</td>\n",
              "      <td>58</td>\n",
              "      <td>-8</td>\n",
              "      <td>-35</td>\n",
              "      <td>-21</td>\n",
              "      <td>-33</td>\n",
              "      <td>-77</td>\n",
              "      <td>-106</td>\n",
              "      <td>72</td>\n",
              "      <td>-12</td>\n",
              "      <td>127</td>\n",
              "      <td>-54</td>\n",
              "      <td>-161</td>\n",
              "      <td>15</td>\n",
              "      <td>...</td>\n",
              "      <td>-28</td>\n",
              "      <td>-166</td>\n",
              "      <td>75</td>\n",
              "      <td>-156</td>\n",
              "      <td>86</td>\n",
              "      <td>31</td>\n",
              "      <td>76</td>\n",
              "      <td>-136</td>\n",
              "      <td>-38</td>\n",
              "      <td>13</td>\n",
              "      <td>-14</td>\n",
              "      <td>-53</td>\n",
              "      <td>-38</td>\n",
              "      <td>-53</td>\n",
              "      <td>89</td>\n",
              "      <td>-42</td>\n",
              "      <td>43</td>\n",
              "      <td>23</td>\n",
              "      <td>19</td>\n",
              "      <td>51</td>\n",
              "      <td>96</td>\n",
              "      <td>92</td>\n",
              "      <td>-17</td>\n",
              "      <td>-9</td>\n",
              "      <td>-34</td>\n",
              "      <td>-40</td>\n",
              "      <td>-47</td>\n",
              "      <td>-95</td>\n",
              "      <td>-16</td>\n",
              "      <td>-51</td>\n",
              "      <td>62</td>\n",
              "      <td>-128</td>\n",
              "      <td>-83</td>\n",
              "      <td>98</td>\n",
              "      <td>-53</td>\n",
              "      <td>29</td>\n",
              "      <td>-76</td>\n",
              "      <td>27</td>\n",
              "      <td>-6</td>\n",
              "      <td>-18</td>\n",
              "    </tr>\n",
              "    <tr>\n",
              "      <th>1</th>\n",
              "      <td>-22</td>\n",
              "      <td>-48</td>\n",
              "      <td>-40</td>\n",
              "      <td>-5</td>\n",
              "      <td>-78</td>\n",
              "      <td>98</td>\n",
              "      <td>-56</td>\n",
              "      <td>-6</td>\n",
              "      <td>0</td>\n",
              "      <td>-15</td>\n",
              "      <td>-176</td>\n",
              "      <td>14</td>\n",
              "      <td>-80</td>\n",
              "      <td>20</td>\n",
              "      <td>142</td>\n",
              "      <td>31</td>\n",
              "      <td>-30</td>\n",
              "      <td>82</td>\n",
              "      <td>3</td>\n",
              "      <td>-14</td>\n",
              "      <td>-27</td>\n",
              "      <td>12</td>\n",
              "      <td>-30</td>\n",
              "      <td>-116</td>\n",
              "      <td>17</td>\n",
              "      <td>-62</td>\n",
              "      <td>-28</td>\n",
              "      <td>67</td>\n",
              "      <td>-13</td>\n",
              "      <td>-37</td>\n",
              "      <td>-28</td>\n",
              "      <td>-44</td>\n",
              "      <td>-75</td>\n",
              "      <td>-114</td>\n",
              "      <td>102</td>\n",
              "      <td>-8</td>\n",
              "      <td>160</td>\n",
              "      <td>-74</td>\n",
              "      <td>-224</td>\n",
              "      <td>-6</td>\n",
              "      <td>...</td>\n",
              "      <td>4</td>\n",
              "      <td>-175</td>\n",
              "      <td>44</td>\n",
              "      <td>-168</td>\n",
              "      <td>74</td>\n",
              "      <td>40</td>\n",
              "      <td>57</td>\n",
              "      <td>-121</td>\n",
              "      <td>-36</td>\n",
              "      <td>-14</td>\n",
              "      <td>-8</td>\n",
              "      <td>7</td>\n",
              "      <td>-18</td>\n",
              "      <td>-54</td>\n",
              "      <td>57</td>\n",
              "      <td>-54</td>\n",
              "      <td>86</td>\n",
              "      <td>20</td>\n",
              "      <td>6</td>\n",
              "      <td>84</td>\n",
              "      <td>99</td>\n",
              "      <td>110</td>\n",
              "      <td>31</td>\n",
              "      <td>-10</td>\n",
              "      <td>-39</td>\n",
              "      <td>-19</td>\n",
              "      <td>-99</td>\n",
              "      <td>-124</td>\n",
              "      <td>-26</td>\n",
              "      <td>-33</td>\n",
              "      <td>49</td>\n",
              "      <td>-158</td>\n",
              "      <td>-120</td>\n",
              "      <td>178</td>\n",
              "      <td>-33</td>\n",
              "      <td>10</td>\n",
              "      <td>-102</td>\n",
              "      <td>4</td>\n",
              "      <td>-19</td>\n",
              "      <td>-13</td>\n",
              "    </tr>\n",
              "    <tr>\n",
              "      <th>2</th>\n",
              "      <td>-17</td>\n",
              "      <td>-48</td>\n",
              "      <td>-36</td>\n",
              "      <td>0</td>\n",
              "      <td>-83</td>\n",
              "      <td>103</td>\n",
              "      <td>-49</td>\n",
              "      <td>-22</td>\n",
              "      <td>-16</td>\n",
              "      <td>11</td>\n",
              "      <td>-174</td>\n",
              "      <td>13</td>\n",
              "      <td>-81</td>\n",
              "      <td>-8</td>\n",
              "      <td>138</td>\n",
              "      <td>28</td>\n",
              "      <td>-4</td>\n",
              "      <td>62</td>\n",
              "      <td>-14</td>\n",
              "      <td>-4</td>\n",
              "      <td>-14</td>\n",
              "      <td>0</td>\n",
              "      <td>-56</td>\n",
              "      <td>-87</td>\n",
              "      <td>4</td>\n",
              "      <td>-42</td>\n",
              "      <td>0</td>\n",
              "      <td>79</td>\n",
              "      <td>-24</td>\n",
              "      <td>-32</td>\n",
              "      <td>-37</td>\n",
              "      <td>-45</td>\n",
              "      <td>-52</td>\n",
              "      <td>-114</td>\n",
              "      <td>111</td>\n",
              "      <td>-12</td>\n",
              "      <td>166</td>\n",
              "      <td>-89</td>\n",
              "      <td>-239</td>\n",
              "      <td>-28</td>\n",
              "      <td>...</td>\n",
              "      <td>21</td>\n",
              "      <td>-138</td>\n",
              "      <td>0</td>\n",
              "      <td>-187</td>\n",
              "      <td>68</td>\n",
              "      <td>41</td>\n",
              "      <td>7</td>\n",
              "      <td>-84</td>\n",
              "      <td>-76</td>\n",
              "      <td>-50</td>\n",
              "      <td>-9</td>\n",
              "      <td>55</td>\n",
              "      <td>-18</td>\n",
              "      <td>-38</td>\n",
              "      <td>22</td>\n",
              "      <td>-53</td>\n",
              "      <td>138</td>\n",
              "      <td>-5</td>\n",
              "      <td>5</td>\n",
              "      <td>105</td>\n",
              "      <td>77</td>\n",
              "      <td>103</td>\n",
              "      <td>35</td>\n",
              "      <td>7</td>\n",
              "      <td>-49</td>\n",
              "      <td>-38</td>\n",
              "      <td>-103</td>\n",
              "      <td>-143</td>\n",
              "      <td>-17</td>\n",
              "      <td>-6</td>\n",
              "      <td>14</td>\n",
              "      <td>-161</td>\n",
              "      <td>-123</td>\n",
              "      <td>236</td>\n",
              "      <td>-23</td>\n",
              "      <td>-26</td>\n",
              "      <td>-95</td>\n",
              "      <td>1</td>\n",
              "      <td>-47</td>\n",
              "      <td>0</td>\n",
              "    </tr>\n",
              "    <tr>\n",
              "      <th>3</th>\n",
              "      <td>-18</td>\n",
              "      <td>-38</td>\n",
              "      <td>-35</td>\n",
              "      <td>7</td>\n",
              "      <td>-69</td>\n",
              "      <td>108</td>\n",
              "      <td>-51</td>\n",
              "      <td>-17</td>\n",
              "      <td>-38</td>\n",
              "      <td>38</td>\n",
              "      <td>-145</td>\n",
              "      <td>9</td>\n",
              "      <td>-77</td>\n",
              "      <td>-39</td>\n",
              "      <td>143</td>\n",
              "      <td>42</td>\n",
              "      <td>29</td>\n",
              "      <td>23</td>\n",
              "      <td>-27</td>\n",
              "      <td>7</td>\n",
              "      <td>-2</td>\n",
              "      <td>-17</td>\n",
              "      <td>-81</td>\n",
              "      <td>-73</td>\n",
              "      <td>-17</td>\n",
              "      <td>-28</td>\n",
              "      <td>29</td>\n",
              "      <td>98</td>\n",
              "      <td>-44</td>\n",
              "      <td>-21</td>\n",
              "      <td>-41</td>\n",
              "      <td>-36</td>\n",
              "      <td>-43</td>\n",
              "      <td>-123</td>\n",
              "      <td>121</td>\n",
              "      <td>-14</td>\n",
              "      <td>149</td>\n",
              "      <td>-106</td>\n",
              "      <td>-209</td>\n",
              "      <td>-37</td>\n",
              "      <td>...</td>\n",
              "      <td>39</td>\n",
              "      <td>-88</td>\n",
              "      <td>-60</td>\n",
              "      <td>-160</td>\n",
              "      <td>54</td>\n",
              "      <td>77</td>\n",
              "      <td>-65</td>\n",
              "      <td>-50</td>\n",
              "      <td>-117</td>\n",
              "      <td>-70</td>\n",
              "      <td>-5</td>\n",
              "      <td>80</td>\n",
              "      <td>-22</td>\n",
              "      <td>-19</td>\n",
              "      <td>18</td>\n",
              "      <td>-52</td>\n",
              "      <td>131</td>\n",
              "      <td>-37</td>\n",
              "      <td>21</td>\n",
              "      <td>72</td>\n",
              "      <td>77</td>\n",
              "      <td>64</td>\n",
              "      <td>-2</td>\n",
              "      <td>-9</td>\n",
              "      <td>-55</td>\n",
              "      <td>-71</td>\n",
              "      <td>-58</td>\n",
              "      <td>-127</td>\n",
              "      <td>23</td>\n",
              "      <td>6</td>\n",
              "      <td>-14</td>\n",
              "      <td>-158</td>\n",
              "      <td>-119</td>\n",
              "      <td>237</td>\n",
              "      <td>0</td>\n",
              "      <td>-81</td>\n",
              "      <td>-65</td>\n",
              "      <td>19</td>\n",
              "      <td>-83</td>\n",
              "      <td>9</td>\n",
              "    </tr>\n",
              "    <tr>\n",
              "      <th>4</th>\n",
              "      <td>-19</td>\n",
              "      <td>-23</td>\n",
              "      <td>-22</td>\n",
              "      <td>7</td>\n",
              "      <td>-31</td>\n",
              "      <td>97</td>\n",
              "      <td>-53</td>\n",
              "      <td>6</td>\n",
              "      <td>-31</td>\n",
              "      <td>35</td>\n",
              "      <td>-101</td>\n",
              "      <td>-6</td>\n",
              "      <td>-59</td>\n",
              "      <td>-74</td>\n",
              "      <td>130</td>\n",
              "      <td>61</td>\n",
              "      <td>41</td>\n",
              "      <td>-24</td>\n",
              "      <td>-45</td>\n",
              "      <td>21</td>\n",
              "      <td>-13</td>\n",
              "      <td>-28</td>\n",
              "      <td>-86</td>\n",
              "      <td>-78</td>\n",
              "      <td>-35</td>\n",
              "      <td>-12</td>\n",
              "      <td>41</td>\n",
              "      <td>101</td>\n",
              "      <td>-56</td>\n",
              "      <td>-13</td>\n",
              "      <td>-51</td>\n",
              "      <td>-31</td>\n",
              "      <td>-36</td>\n",
              "      <td>-113</td>\n",
              "      <td>137</td>\n",
              "      <td>-2</td>\n",
              "      <td>120</td>\n",
              "      <td>-111</td>\n",
              "      <td>-154</td>\n",
              "      <td>-35</td>\n",
              "      <td>...</td>\n",
              "      <td>71</td>\n",
              "      <td>-61</td>\n",
              "      <td>-107</td>\n",
              "      <td>-108</td>\n",
              "      <td>-3</td>\n",
              "      <td>92</td>\n",
              "      <td>-103</td>\n",
              "      <td>-9</td>\n",
              "      <td>-135</td>\n",
              "      <td>-108</td>\n",
              "      <td>11</td>\n",
              "      <td>76</td>\n",
              "      <td>-10</td>\n",
              "      <td>-30</td>\n",
              "      <td>23</td>\n",
              "      <td>-53</td>\n",
              "      <td>97</td>\n",
              "      <td>-49</td>\n",
              "      <td>37</td>\n",
              "      <td>-21</td>\n",
              "      <td>75</td>\n",
              "      <td>47</td>\n",
              "      <td>-39</td>\n",
              "      <td>-38</td>\n",
              "      <td>-42</td>\n",
              "      <td>-76</td>\n",
              "      <td>-21</td>\n",
              "      <td>-72</td>\n",
              "      <td>52</td>\n",
              "      <td>36</td>\n",
              "      <td>-14</td>\n",
              "      <td>-152</td>\n",
              "      <td>-93</td>\n",
              "      <td>187</td>\n",
              "      <td>10</td>\n",
              "      <td>-127</td>\n",
              "      <td>-30</td>\n",
              "      <td>43</td>\n",
              "      <td>-99</td>\n",
              "      <td>6</td>\n",
              "    </tr>\n",
              "    <tr>\n",
              "      <th>5</th>\n",
              "      <td>-14</td>\n",
              "      <td>0</td>\n",
              "      <td>-15</td>\n",
              "      <td>-4</td>\n",
              "      <td>-4</td>\n",
              "      <td>86</td>\n",
              "      <td>-71</td>\n",
              "      <td>26</td>\n",
              "      <td>-19</td>\n",
              "      <td>48</td>\n",
              "      <td>-45</td>\n",
              "      <td>-20</td>\n",
              "      <td>-31</td>\n",
              "      <td>-97</td>\n",
              "      <td>93</td>\n",
              "      <td>77</td>\n",
              "      <td>38</td>\n",
              "      <td>-46</td>\n",
              "      <td>-69</td>\n",
              "      <td>24</td>\n",
              "      <td>-24</td>\n",
              "      <td>-31</td>\n",
              "      <td>-80</td>\n",
              "      <td>-93</td>\n",
              "      <td>-41</td>\n",
              "      <td>6</td>\n",
              "      <td>39</td>\n",
              "      <td>112</td>\n",
              "      <td>-58</td>\n",
              "      <td>-9</td>\n",
              "      <td>-62</td>\n",
              "      <td>-31</td>\n",
              "      <td>-40</td>\n",
              "      <td>-84</td>\n",
              "      <td>152</td>\n",
              "      <td>1</td>\n",
              "      <td>86</td>\n",
              "      <td>-104</td>\n",
              "      <td>-90</td>\n",
              "      <td>-26</td>\n",
              "      <td>...</td>\n",
              "      <td>73</td>\n",
              "      <td>-48</td>\n",
              "      <td>-106</td>\n",
              "      <td>-62</td>\n",
              "      <td>-71</td>\n",
              "      <td>43</td>\n",
              "      <td>-111</td>\n",
              "      <td>17</td>\n",
              "      <td>-144</td>\n",
              "      <td>-158</td>\n",
              "      <td>19</td>\n",
              "      <td>123</td>\n",
              "      <td>-9</td>\n",
              "      <td>-35</td>\n",
              "      <td>32</td>\n",
              "      <td>-69</td>\n",
              "      <td>53</td>\n",
              "      <td>-62</td>\n",
              "      <td>49</td>\n",
              "      <td>-101</td>\n",
              "      <td>71</td>\n",
              "      <td>59</td>\n",
              "      <td>-67</td>\n",
              "      <td>-50</td>\n",
              "      <td>-31</td>\n",
              "      <td>-86</td>\n",
              "      <td>-4</td>\n",
              "      <td>-12</td>\n",
              "      <td>30</td>\n",
              "      <td>63</td>\n",
              "      <td>-11</td>\n",
              "      <td>-144</td>\n",
              "      <td>-45</td>\n",
              "      <td>94</td>\n",
              "      <td>26</td>\n",
              "      <td>-148</td>\n",
              "      <td>2</td>\n",
              "      <td>57</td>\n",
              "      <td>-104</td>\n",
              "      <td>-20</td>\n",
              "    </tr>\n",
              "    <tr>\n",
              "      <th>6</th>\n",
              "      <td>-4</td>\n",
              "      <td>11</td>\n",
              "      <td>-4</td>\n",
              "      <td>-18</td>\n",
              "      <td>10</td>\n",
              "      <td>71</td>\n",
              "      <td>-96</td>\n",
              "      <td>40</td>\n",
              "      <td>12</td>\n",
              "      <td>65</td>\n",
              "      <td>0</td>\n",
              "      <td>-31</td>\n",
              "      <td>-7</td>\n",
              "      <td>-103</td>\n",
              "      <td>36</td>\n",
              "      <td>90</td>\n",
              "      <td>36</td>\n",
              "      <td>-33</td>\n",
              "      <td>-86</td>\n",
              "      <td>18</td>\n",
              "      <td>-23</td>\n",
              "      <td>-39</td>\n",
              "      <td>-65</td>\n",
              "      <td>-122</td>\n",
              "      <td>-46</td>\n",
              "      <td>13</td>\n",
              "      <td>27</td>\n",
              "      <td>94</td>\n",
              "      <td>-54</td>\n",
              "      <td>-8</td>\n",
              "      <td>-65</td>\n",
              "      <td>-31</td>\n",
              "      <td>-46</td>\n",
              "      <td>-47</td>\n",
              "      <td>135</td>\n",
              "      <td>10</td>\n",
              "      <td>42</td>\n",
              "      <td>-88</td>\n",
              "      <td>-9</td>\n",
              "      <td>-24</td>\n",
              "      <td>...</td>\n",
              "      <td>48</td>\n",
              "      <td>-55</td>\n",
              "      <td>-104</td>\n",
              "      <td>-10</td>\n",
              "      <td>-76</td>\n",
              "      <td>-24</td>\n",
              "      <td>-138</td>\n",
              "      <td>46</td>\n",
              "      <td>-142</td>\n",
              "      <td>-177</td>\n",
              "      <td>10</td>\n",
              "      <td>109</td>\n",
              "      <td>-22</td>\n",
              "      <td>-38</td>\n",
              "      <td>62</td>\n",
              "      <td>-115</td>\n",
              "      <td>-4</td>\n",
              "      <td>-75</td>\n",
              "      <td>74</td>\n",
              "      <td>-134</td>\n",
              "      <td>67</td>\n",
              "      <td>47</td>\n",
              "      <td>-107</td>\n",
              "      <td>-53</td>\n",
              "      <td>-36</td>\n",
              "      <td>-79</td>\n",
              "      <td>18</td>\n",
              "      <td>29</td>\n",
              "      <td>-5</td>\n",
              "      <td>71</td>\n",
              "      <td>-2</td>\n",
              "      <td>-117</td>\n",
              "      <td>17</td>\n",
              "      <td>-13</td>\n",
              "      <td>37</td>\n",
              "      <td>-140</td>\n",
              "      <td>25</td>\n",
              "      <td>54</td>\n",
              "      <td>-81</td>\n",
              "      <td>-67</td>\n",
              "    </tr>\n",
              "    <tr>\n",
              "      <th>7</th>\n",
              "      <td>-1</td>\n",
              "      <td>22</td>\n",
              "      <td>13</td>\n",
              "      <td>-15</td>\n",
              "      <td>9</td>\n",
              "      <td>76</td>\n",
              "      <td>-119</td>\n",
              "      <td>42</td>\n",
              "      <td>37</td>\n",
              "      <td>72</td>\n",
              "      <td>29</td>\n",
              "      <td>-27</td>\n",
              "      <td>19</td>\n",
              "      <td>-95</td>\n",
              "      <td>-27</td>\n",
              "      <td>105</td>\n",
              "      <td>27</td>\n",
              "      <td>-14</td>\n",
              "      <td>-85</td>\n",
              "      <td>13</td>\n",
              "      <td>-23</td>\n",
              "      <td>-51</td>\n",
              "      <td>-49</td>\n",
              "      <td>-139</td>\n",
              "      <td>-45</td>\n",
              "      <td>11</td>\n",
              "      <td>12</td>\n",
              "      <td>72</td>\n",
              "      <td>-43</td>\n",
              "      <td>2</td>\n",
              "      <td>-63</td>\n",
              "      <td>-48</td>\n",
              "      <td>-48</td>\n",
              "      <td>-34</td>\n",
              "      <td>83</td>\n",
              "      <td>1</td>\n",
              "      <td>-14</td>\n",
              "      <td>-64</td>\n",
              "      <td>62</td>\n",
              "      <td>-24</td>\n",
              "      <td>...</td>\n",
              "      <td>16</td>\n",
              "      <td>-68</td>\n",
              "      <td>-45</td>\n",
              "      <td>32</td>\n",
              "      <td>-126</td>\n",
              "      <td>-56</td>\n",
              "      <td>-120</td>\n",
              "      <td>51</td>\n",
              "      <td>-118</td>\n",
              "      <td>-177</td>\n",
              "      <td>6</td>\n",
              "      <td>82</td>\n",
              "      <td>-1</td>\n",
              "      <td>-52</td>\n",
              "      <td>76</td>\n",
              "      <td>-142</td>\n",
              "      <td>-89</td>\n",
              "      <td>-52</td>\n",
              "      <td>74</td>\n",
              "      <td>-146</td>\n",
              "      <td>72</td>\n",
              "      <td>27</td>\n",
              "      <td>-122</td>\n",
              "      <td>-68</td>\n",
              "      <td>-41</td>\n",
              "      <td>-60</td>\n",
              "      <td>-5</td>\n",
              "      <td>74</td>\n",
              "      <td>-24</td>\n",
              "      <td>68</td>\n",
              "      <td>-16</td>\n",
              "      <td>-65</td>\n",
              "      <td>77</td>\n",
              "      <td>-114</td>\n",
              "      <td>28</td>\n",
              "      <td>-104</td>\n",
              "      <td>40</td>\n",
              "      <td>40</td>\n",
              "      <td>-46</td>\n",
              "      <td>-126</td>\n",
              "    </tr>\n",
              "    <tr>\n",
              "      <th>8</th>\n",
              "      <td>7</td>\n",
              "      <td>21</td>\n",
              "      <td>33</td>\n",
              "      <td>-6</td>\n",
              "      <td>1</td>\n",
              "      <td>96</td>\n",
              "      <td>-110</td>\n",
              "      <td>35</td>\n",
              "      <td>43</td>\n",
              "      <td>44</td>\n",
              "      <td>15</td>\n",
              "      <td>-10</td>\n",
              "      <td>19</td>\n",
              "      <td>-68</td>\n",
              "      <td>-72</td>\n",
              "      <td>94</td>\n",
              "      <td>13</td>\n",
              "      <td>1</td>\n",
              "      <td>-79</td>\n",
              "      <td>13</td>\n",
              "      <td>-25</td>\n",
              "      <td>-44</td>\n",
              "      <td>-26</td>\n",
              "      <td>-141</td>\n",
              "      <td>-35</td>\n",
              "      <td>13</td>\n",
              "      <td>-11</td>\n",
              "      <td>54</td>\n",
              "      <td>-24</td>\n",
              "      <td>4</td>\n",
              "      <td>-50</td>\n",
              "      <td>-51</td>\n",
              "      <td>-26</td>\n",
              "      <td>-21</td>\n",
              "      <td>20</td>\n",
              "      <td>-14</td>\n",
              "      <td>-63</td>\n",
              "      <td>-59</td>\n",
              "      <td>105</td>\n",
              "      <td>-15</td>\n",
              "      <td>...</td>\n",
              "      <td>-28</td>\n",
              "      <td>-63</td>\n",
              "      <td>32</td>\n",
              "      <td>67</td>\n",
              "      <td>-82</td>\n",
              "      <td>-37</td>\n",
              "      <td>-89</td>\n",
              "      <td>52</td>\n",
              "      <td>-33</td>\n",
              "      <td>-168</td>\n",
              "      <td>9</td>\n",
              "      <td>89</td>\n",
              "      <td>-2</td>\n",
              "      <td>-74</td>\n",
              "      <td>73</td>\n",
              "      <td>-166</td>\n",
              "      <td>-121</td>\n",
              "      <td>20</td>\n",
              "      <td>40</td>\n",
              "      <td>-119</td>\n",
              "      <td>75</td>\n",
              "      <td>34</td>\n",
              "      <td>-127</td>\n",
              "      <td>-48</td>\n",
              "      <td>-20</td>\n",
              "      <td>-89</td>\n",
              "      <td>-16</td>\n",
              "      <td>100</td>\n",
              "      <td>-33</td>\n",
              "      <td>45</td>\n",
              "      <td>-34</td>\n",
              "      <td>-5</td>\n",
              "      <td>103</td>\n",
              "      <td>-185</td>\n",
              "      <td>15</td>\n",
              "      <td>-78</td>\n",
              "      <td>33</td>\n",
              "      <td>19</td>\n",
              "      <td>-1</td>\n",
              "      <td>-162</td>\n",
              "    </tr>\n",
              "    <tr>\n",
              "      <th>9</th>\n",
              "      <td>17</td>\n",
              "      <td>3</td>\n",
              "      <td>38</td>\n",
              "      <td>4</td>\n",
              "      <td>-10</td>\n",
              "      <td>100</td>\n",
              "      <td>-90</td>\n",
              "      <td>19</td>\n",
              "      <td>48</td>\n",
              "      <td>-2</td>\n",
              "      <td>15</td>\n",
              "      <td>5</td>\n",
              "      <td>0</td>\n",
              "      <td>-41</td>\n",
              "      <td>-83</td>\n",
              "      <td>77</td>\n",
              "      <td>15</td>\n",
              "      <td>1</td>\n",
              "      <td>-65</td>\n",
              "      <td>2</td>\n",
              "      <td>-32</td>\n",
              "      <td>-35</td>\n",
              "      <td>4</td>\n",
              "      <td>-120</td>\n",
              "      <td>-35</td>\n",
              "      <td>4</td>\n",
              "      <td>-40</td>\n",
              "      <td>45</td>\n",
              "      <td>-16</td>\n",
              "      <td>20</td>\n",
              "      <td>-19</td>\n",
              "      <td>-38</td>\n",
              "      <td>-5</td>\n",
              "      <td>-21</td>\n",
              "      <td>-42</td>\n",
              "      <td>-21</td>\n",
              "      <td>-107</td>\n",
              "      <td>-48</td>\n",
              "      <td>122</td>\n",
              "      <td>-11</td>\n",
              "      <td>...</td>\n",
              "      <td>-62</td>\n",
              "      <td>-70</td>\n",
              "      <td>92</td>\n",
              "      <td>75</td>\n",
              "      <td>-44</td>\n",
              "      <td>-7</td>\n",
              "      <td>-68</td>\n",
              "      <td>30</td>\n",
              "      <td>31</td>\n",
              "      <td>-130</td>\n",
              "      <td>6</td>\n",
              "      <td>83</td>\n",
              "      <td>-17</td>\n",
              "      <td>-61</td>\n",
              "      <td>67</td>\n",
              "      <td>-199</td>\n",
              "      <td>-136</td>\n",
              "      <td>11</td>\n",
              "      <td>33</td>\n",
              "      <td>-77</td>\n",
              "      <td>61</td>\n",
              "      <td>55</td>\n",
              "      <td>-136</td>\n",
              "      <td>-1</td>\n",
              "      <td>-3</td>\n",
              "      <td>-104</td>\n",
              "      <td>-37</td>\n",
              "      <td>119</td>\n",
              "      <td>-19</td>\n",
              "      <td>-4</td>\n",
              "      <td>-57</td>\n",
              "      <td>61</td>\n",
              "      <td>120</td>\n",
              "      <td>-219</td>\n",
              "      <td>1</td>\n",
              "      <td>-78</td>\n",
              "      <td>14</td>\n",
              "      <td>25</td>\n",
              "      <td>30</td>\n",
              "      <td>-165</td>\n",
              "    </tr>\n",
              "  </tbody>\n",
              "</table>\n",
              "<p>10 rows × 100 columns</p>\n",
              "</div>"
            ],
            "text/plain": [
              "   A0  A1  A2  A3  A4   A5   A6  A7  ...  A92  A93  A94  A95  A96  A97  A98  A99\n",
              "0 -24 -55 -36 -14 -58   87  -52   2  ...  -83   98  -53   29  -76   27   -6  -18\n",
              "1 -22 -48 -40  -5 -78   98  -56  -6  ... -120  178  -33   10 -102    4  -19  -13\n",
              "2 -17 -48 -36   0 -83  103  -49 -22  ... -123  236  -23  -26  -95    1  -47    0\n",
              "3 -18 -38 -35   7 -69  108  -51 -17  ... -119  237    0  -81  -65   19  -83    9\n",
              "4 -19 -23 -22   7 -31   97  -53   6  ...  -93  187   10 -127  -30   43  -99    6\n",
              "5 -14   0 -15  -4  -4   86  -71  26  ...  -45   94   26 -148    2   57 -104  -20\n",
              "6  -4  11  -4 -18  10   71  -96  40  ...   17  -13   37 -140   25   54  -81  -67\n",
              "7  -1  22  13 -15   9   76 -119  42  ...   77 -114   28 -104   40   40  -46 -126\n",
              "8   7  21  33  -6   1   96 -110  35  ...  103 -185   15  -78   33   19   -1 -162\n",
              "9  17   3  38   4 -10  100  -90  19  ...  120 -219    1  -78   14   25   30 -165\n",
              "\n",
              "[10 rows x 100 columns]"
            ]
          },
          "metadata": {
            "tags": []
          },
          "execution_count": 11
        }
      ]
    },
    {
      "cell_type": "markdown",
      "metadata": {
        "id": "413Kc2Rj88yb",
        "colab_type": "text"
      },
      "source": [
        "##CREATE SUB-MATRIX FOR EACH"
      ]
    },
    {
      "cell_type": "code",
      "metadata": {
        "id": "BAnsYREL88yc",
        "colab_type": "code",
        "colab": {}
      },
      "source": [
        "# creat a matrix\n",
        "def creat_mat(mat):\n",
        "    matx = np.zeros((len(mat),(len(head))))\n",
        "    for i in range(len(head)):\n",
        "        matx[:,i] = mat[head[i]]\n",
        "        sleep(0.01)\n",
        "    return matx\n",
        "# every mat contain probs mat[:,i] total 28 start form mat1"
      ],
      "execution_count": null,
      "outputs": []
    },
    {
      "cell_type": "code",
      "metadata": {
        "id": "xO1d2tkg88yg",
        "colab_type": "code",
        "colab": {}
      },
      "source": [
        "matA = creat_mat(bigA)\n",
        "matB = creat_mat(bigB) # : refers to NON-SEIZURE\n",
        "matC = creat_mat(bigC)\n",
        "matD = creat_mat(bigD)\n",
        "matE = creat_mat(bigE) # :  refers to SEIZURES\n",
        "\n",
        "matA = np.nan_to_num(matA)\n",
        "matB = np.nan_to_num(matB) # matB[:,0] --- > channel 0, matB[:,1] --- > channel 1 like that\n",
        "matC = np.nan_to_num(matC)\n",
        "matD = np.nan_to_num(matD)\n",
        "matE = np.nan_to_num(matE)\n",
        "\n",
        "# 4097 data point per channel \n",
        "# 173.61 Hz sample rate and there are 4097 data point for each channel\n",
        "# total 100 channel are their\n",
        "# 4097/173.61 = 23.59 sec \n",
        "# the raw data from one of the channels for the 23.59 sec"
      ],
      "execution_count": null,
      "outputs": []
    },
    {
      "cell_type": "code",
      "metadata": {
        "id": "YKxIj6EeQsBv",
        "colab_type": "code",
        "colab": {
          "base_uri": "https://localhost:8080/",
          "height": 33
        },
        "outputId": "691ffd94-d19e-4440-c694-01131e836ada"
      },
      "source": [
        "matB.shape"
      ],
      "execution_count": null,
      "outputs": [
        {
          "output_type": "execute_result",
          "data": {
            "text/plain": [
              "(4097, 100)"
            ]
          },
          "metadata": {
            "tags": []
          },
          "execution_count": 14
        }
      ]
    },
    {
      "cell_type": "code",
      "metadata": {
        "id": "K-yW-f-pTkTu",
        "colab_type": "code",
        "colab": {
          "base_uri": "https://localhost:8080/",
          "height": 33
        },
        "outputId": "db5b157b-6e47-4cc7-d2b5-8da45f94e70c"
      },
      "source": [
        "matNS_out = np.zeros((1,400))\n",
        "matNS = np.concatenate((matA, matB, matC, matD), axis= 1)\n",
        "X_data_NS = np.concatenate((matNS,matNS_out), axis = 0) \n",
        "print(X_data_NS.shape)"
      ],
      "execution_count": null,
      "outputs": [
        {
          "output_type": "stream",
          "text": [
            "(4098, 400)\n"
          ],
          "name": "stdout"
        }
      ]
    },
    {
      "cell_type": "code",
      "metadata": {
        "id": "dq2PBaGnKfj6",
        "colab_type": "code",
        "colab": {
          "base_uri": "https://localhost:8080/",
          "height": 33
        },
        "outputId": "721397ef-e892-4cd3-b1f2-384721083245"
      },
      "source": [
        "matS_out = np.ones((1,100))\n",
        "X_data_S = np.concatenate((matE,matS_out), axis = 0) \n",
        "print(X_data_S.shape)"
      ],
      "execution_count": null,
      "outputs": [
        {
          "output_type": "stream",
          "text": [
            "(4098, 100)\n"
          ],
          "name": "stdout"
        }
      ]
    },
    {
      "cell_type": "code",
      "metadata": {
        "id": "YqrgQJ02Kwc2",
        "colab_type": "code",
        "colab": {}
      },
      "source": [
        "data = np.concatenate((X_data_NS,X_data_S), axis =1)\n",
        "data = data.T\n",
        "c = 'A'\n",
        "col = []\n",
        "sig = []\n",
        "for i in range(np.size(data,1)-1):\n",
        "    col.append(st+str(i))\n",
        "for i in range(np.size(data,0)):\n",
        "    sig.append('S'+str(i))\n",
        "col.append('out')\n",
        "TotalData = pd.DataFrame(data, columns=col, index= sig)"
      ],
      "execution_count": null,
      "outputs": []
    },
    {
      "cell_type": "code",
      "metadata": {
        "id": "is9i6VUGMVhe",
        "colab_type": "code",
        "colab": {
          "base_uri": "https://localhost:8080/",
          "height": 411
        },
        "outputId": "df5acf39-c8de-4d05-b642-6270608aa481"
      },
      "source": [
        "TotalData"
      ],
      "execution_count": null,
      "outputs": [
        {
          "output_type": "execute_result",
          "data": {
            "text/html": [
              "<div>\n",
              "<style scoped>\n",
              "    .dataframe tbody tr th:only-of-type {\n",
              "        vertical-align: middle;\n",
              "    }\n",
              "\n",
              "    .dataframe tbody tr th {\n",
              "        vertical-align: top;\n",
              "    }\n",
              "\n",
              "    .dataframe thead th {\n",
              "        text-align: right;\n",
              "    }\n",
              "</style>\n",
              "<table border=\"1\" class=\"dataframe\">\n",
              "  <thead>\n",
              "    <tr style=\"text-align: right;\">\n",
              "      <th></th>\n",
              "      <th>A0</th>\n",
              "      <th>A1</th>\n",
              "      <th>A2</th>\n",
              "      <th>A3</th>\n",
              "      <th>A4</th>\n",
              "      <th>A5</th>\n",
              "      <th>A6</th>\n",
              "      <th>A7</th>\n",
              "      <th>A8</th>\n",
              "      <th>A9</th>\n",
              "      <th>A10</th>\n",
              "      <th>A11</th>\n",
              "      <th>A12</th>\n",
              "      <th>A13</th>\n",
              "      <th>A14</th>\n",
              "      <th>A15</th>\n",
              "      <th>A16</th>\n",
              "      <th>A17</th>\n",
              "      <th>A18</th>\n",
              "      <th>A19</th>\n",
              "      <th>A20</th>\n",
              "      <th>A21</th>\n",
              "      <th>A22</th>\n",
              "      <th>A23</th>\n",
              "      <th>A24</th>\n",
              "      <th>A25</th>\n",
              "      <th>A26</th>\n",
              "      <th>A27</th>\n",
              "      <th>A28</th>\n",
              "      <th>A29</th>\n",
              "      <th>A30</th>\n",
              "      <th>A31</th>\n",
              "      <th>A32</th>\n",
              "      <th>A33</th>\n",
              "      <th>A34</th>\n",
              "      <th>A35</th>\n",
              "      <th>A36</th>\n",
              "      <th>A37</th>\n",
              "      <th>A38</th>\n",
              "      <th>A39</th>\n",
              "      <th>...</th>\n",
              "      <th>A4058</th>\n",
              "      <th>A4059</th>\n",
              "      <th>A4060</th>\n",
              "      <th>A4061</th>\n",
              "      <th>A4062</th>\n",
              "      <th>A4063</th>\n",
              "      <th>A4064</th>\n",
              "      <th>A4065</th>\n",
              "      <th>A4066</th>\n",
              "      <th>A4067</th>\n",
              "      <th>A4068</th>\n",
              "      <th>A4069</th>\n",
              "      <th>A4070</th>\n",
              "      <th>A4071</th>\n",
              "      <th>A4072</th>\n",
              "      <th>A4073</th>\n",
              "      <th>A4074</th>\n",
              "      <th>A4075</th>\n",
              "      <th>A4076</th>\n",
              "      <th>A4077</th>\n",
              "      <th>A4078</th>\n",
              "      <th>A4079</th>\n",
              "      <th>A4080</th>\n",
              "      <th>A4081</th>\n",
              "      <th>A4082</th>\n",
              "      <th>A4083</th>\n",
              "      <th>A4084</th>\n",
              "      <th>A4085</th>\n",
              "      <th>A4086</th>\n",
              "      <th>A4087</th>\n",
              "      <th>A4088</th>\n",
              "      <th>A4089</th>\n",
              "      <th>A4090</th>\n",
              "      <th>A4091</th>\n",
              "      <th>A4092</th>\n",
              "      <th>A4093</th>\n",
              "      <th>A4094</th>\n",
              "      <th>A4095</th>\n",
              "      <th>A4096</th>\n",
              "      <th>out</th>\n",
              "    </tr>\n",
              "  </thead>\n",
              "  <tbody>\n",
              "    <tr>\n",
              "      <th>S0</th>\n",
              "      <td>12.0</td>\n",
              "      <td>22.0</td>\n",
              "      <td>35.0</td>\n",
              "      <td>45.0</td>\n",
              "      <td>69.0</td>\n",
              "      <td>74.0</td>\n",
              "      <td>79.0</td>\n",
              "      <td>78.0</td>\n",
              "      <td>66.0</td>\n",
              "      <td>43.0</td>\n",
              "      <td>33.0</td>\n",
              "      <td>36.0</td>\n",
              "      <td>34.0</td>\n",
              "      <td>38.0</td>\n",
              "      <td>36.0</td>\n",
              "      <td>28.0</td>\n",
              "      <td>6.0</td>\n",
              "      <td>-19.0</td>\n",
              "      <td>-38.0</td>\n",
              "      <td>-45.0</td>\n",
              "      <td>-35.0</td>\n",
              "      <td>-11.0</td>\n",
              "      <td>6.0</td>\n",
              "      <td>7.0</td>\n",
              "      <td>7.0</td>\n",
              "      <td>-2.0</td>\n",
              "      <td>-3.0</td>\n",
              "      <td>5.0</td>\n",
              "      <td>19.0</td>\n",
              "      <td>26.0</td>\n",
              "      <td>25.0</td>\n",
              "      <td>41.0</td>\n",
              "      <td>46.0</td>\n",
              "      <td>52.0</td>\n",
              "      <td>50.0</td>\n",
              "      <td>47.0</td>\n",
              "      <td>38.0</td>\n",
              "      <td>24.0</td>\n",
              "      <td>17.0</td>\n",
              "      <td>3.0</td>\n",
              "      <td>...</td>\n",
              "      <td>48.0</td>\n",
              "      <td>36.0</td>\n",
              "      <td>15.0</td>\n",
              "      <td>-6.0</td>\n",
              "      <td>-1.0</td>\n",
              "      <td>8.0</td>\n",
              "      <td>26.0</td>\n",
              "      <td>38.0</td>\n",
              "      <td>32.0</td>\n",
              "      <td>33.0</td>\n",
              "      <td>34.0</td>\n",
              "      <td>41.0</td>\n",
              "      <td>42.0</td>\n",
              "      <td>30.0</td>\n",
              "      <td>16.0</td>\n",
              "      <td>13.0</td>\n",
              "      <td>6.0</td>\n",
              "      <td>-2.0</td>\n",
              "      <td>-10.0</td>\n",
              "      <td>-23.0</td>\n",
              "      <td>-31.0</td>\n",
              "      <td>-23.0</td>\n",
              "      <td>-1.0</td>\n",
              "      <td>19.0</td>\n",
              "      <td>17.0</td>\n",
              "      <td>7.0</td>\n",
              "      <td>-17.0</td>\n",
              "      <td>-32.0</td>\n",
              "      <td>-37.0</td>\n",
              "      <td>-31.0</td>\n",
              "      <td>-28.0</td>\n",
              "      <td>-21.0</td>\n",
              "      <td>-14.0</td>\n",
              "      <td>-14.0</td>\n",
              "      <td>-25.0</td>\n",
              "      <td>-28.0</td>\n",
              "      <td>-11.0</td>\n",
              "      <td>8.0</td>\n",
              "      <td>77.0</td>\n",
              "      <td>0.0</td>\n",
              "    </tr>\n",
              "    <tr>\n",
              "      <th>S1</th>\n",
              "      <td>-56.0</td>\n",
              "      <td>-50.0</td>\n",
              "      <td>-64.0</td>\n",
              "      <td>-91.0</td>\n",
              "      <td>-135.0</td>\n",
              "      <td>-140.0</td>\n",
              "      <td>-134.0</td>\n",
              "      <td>-114.0</td>\n",
              "      <td>-115.0</td>\n",
              "      <td>-126.0</td>\n",
              "      <td>-138.0</td>\n",
              "      <td>-143.0</td>\n",
              "      <td>-126.0</td>\n",
              "      <td>-91.0</td>\n",
              "      <td>-57.0</td>\n",
              "      <td>-62.0</td>\n",
              "      <td>-91.0</td>\n",
              "      <td>-125.0</td>\n",
              "      <td>-153.0</td>\n",
              "      <td>-154.0</td>\n",
              "      <td>-147.0</td>\n",
              "      <td>-136.0</td>\n",
              "      <td>-143.0</td>\n",
              "      <td>-147.0</td>\n",
              "      <td>-153.0</td>\n",
              "      <td>-171.0</td>\n",
              "      <td>-187.0</td>\n",
              "      <td>-175.0</td>\n",
              "      <td>-141.0</td>\n",
              "      <td>-96.0</td>\n",
              "      <td>-47.0</td>\n",
              "      <td>-40.0</td>\n",
              "      <td>-55.0</td>\n",
              "      <td>-74.0</td>\n",
              "      <td>-79.0</td>\n",
              "      <td>-89.0</td>\n",
              "      <td>-94.0</td>\n",
              "      <td>-107.0</td>\n",
              "      <td>-124.0</td>\n",
              "      <td>-134.0</td>\n",
              "      <td>...</td>\n",
              "      <td>-134.0</td>\n",
              "      <td>-138.0</td>\n",
              "      <td>-136.0</td>\n",
              "      <td>-144.0</td>\n",
              "      <td>-141.0</td>\n",
              "      <td>-146.0</td>\n",
              "      <td>-141.0</td>\n",
              "      <td>-117.0</td>\n",
              "      <td>-67.0</td>\n",
              "      <td>-20.0</td>\n",
              "      <td>5.0</td>\n",
              "      <td>17.0</td>\n",
              "      <td>-5.0</td>\n",
              "      <td>-31.0</td>\n",
              "      <td>-75.0</td>\n",
              "      <td>-119.0</td>\n",
              "      <td>-160.0</td>\n",
              "      <td>-201.0</td>\n",
              "      <td>-214.0</td>\n",
              "      <td>-220.0</td>\n",
              "      <td>-206.0</td>\n",
              "      <td>-187.0</td>\n",
              "      <td>-162.0</td>\n",
              "      <td>-139.0</td>\n",
              "      <td>-118.0</td>\n",
              "      <td>-77.0</td>\n",
              "      <td>-49.0</td>\n",
              "      <td>-37.0</td>\n",
              "      <td>-43.0</td>\n",
              "      <td>-63.0</td>\n",
              "      <td>-82.0</td>\n",
              "      <td>-114.0</td>\n",
              "      <td>-138.0</td>\n",
              "      <td>-159.0</td>\n",
              "      <td>-172.0</td>\n",
              "      <td>-180.0</td>\n",
              "      <td>-173.0</td>\n",
              "      <td>-162.0</td>\n",
              "      <td>-82.0</td>\n",
              "      <td>0.0</td>\n",
              "    </tr>\n",
              "    <tr>\n",
              "      <th>S2</th>\n",
              "      <td>-37.0</td>\n",
              "      <td>-22.0</td>\n",
              "      <td>-17.0</td>\n",
              "      <td>-24.0</td>\n",
              "      <td>-31.0</td>\n",
              "      <td>-20.0</td>\n",
              "      <td>-5.0</td>\n",
              "      <td>14.0</td>\n",
              "      <td>31.0</td>\n",
              "      <td>31.0</td>\n",
              "      <td>20.0</td>\n",
              "      <td>2.0</td>\n",
              "      <td>0.0</td>\n",
              "      <td>2.0</td>\n",
              "      <td>12.0</td>\n",
              "      <td>23.0</td>\n",
              "      <td>20.0</td>\n",
              "      <td>18.0</td>\n",
              "      <td>17.0</td>\n",
              "      <td>34.0</td>\n",
              "      <td>43.0</td>\n",
              "      <td>47.0</td>\n",
              "      <td>30.0</td>\n",
              "      <td>5.0</td>\n",
              "      <td>-28.0</td>\n",
              "      <td>-27.0</td>\n",
              "      <td>-19.0</td>\n",
              "      <td>-24.0</td>\n",
              "      <td>-27.0</td>\n",
              "      <td>-35.0</td>\n",
              "      <td>-40.0</td>\n",
              "      <td>-42.0</td>\n",
              "      <td>-46.0</td>\n",
              "      <td>-41.0</td>\n",
              "      <td>-33.0</td>\n",
              "      <td>-14.0</td>\n",
              "      <td>3.0</td>\n",
              "      <td>8.0</td>\n",
              "      <td>-3.0</td>\n",
              "      <td>-10.0</td>\n",
              "      <td>...</td>\n",
              "      <td>72.0</td>\n",
              "      <td>80.0</td>\n",
              "      <td>66.0</td>\n",
              "      <td>37.0</td>\n",
              "      <td>-6.0</td>\n",
              "      <td>-47.0</td>\n",
              "      <td>-70.0</td>\n",
              "      <td>-85.0</td>\n",
              "      <td>-88.0</td>\n",
              "      <td>-89.0</td>\n",
              "      <td>-91.0</td>\n",
              "      <td>-101.0</td>\n",
              "      <td>-108.0</td>\n",
              "      <td>-103.0</td>\n",
              "      <td>-104.0</td>\n",
              "      <td>-96.0</td>\n",
              "      <td>-84.0</td>\n",
              "      <td>-65.0</td>\n",
              "      <td>-43.0</td>\n",
              "      <td>-18.0</td>\n",
              "      <td>-5.0</td>\n",
              "      <td>-5.0</td>\n",
              "      <td>-14.0</td>\n",
              "      <td>-30.0</td>\n",
              "      <td>-58.0</td>\n",
              "      <td>-88.0</td>\n",
              "      <td>-116.0</td>\n",
              "      <td>-129.0</td>\n",
              "      <td>-117.0</td>\n",
              "      <td>-91.0</td>\n",
              "      <td>-52.0</td>\n",
              "      <td>-23.0</td>\n",
              "      <td>-14.0</td>\n",
              "      <td>-5.0</td>\n",
              "      <td>-3.0</td>\n",
              "      <td>7.0</td>\n",
              "      <td>3.0</td>\n",
              "      <td>4.0</td>\n",
              "      <td>82.0</td>\n",
              "      <td>0.0</td>\n",
              "    </tr>\n",
              "    <tr>\n",
              "      <th>S3</th>\n",
              "      <td>-31.0</td>\n",
              "      <td>-43.0</td>\n",
              "      <td>-39.0</td>\n",
              "      <td>-39.0</td>\n",
              "      <td>-9.0</td>\n",
              "      <td>-5.0</td>\n",
              "      <td>18.0</td>\n",
              "      <td>7.0</td>\n",
              "      <td>-12.0</td>\n",
              "      <td>-42.0</td>\n",
              "      <td>-53.0</td>\n",
              "      <td>-62.0</td>\n",
              "      <td>-31.0</td>\n",
              "      <td>-19.0</td>\n",
              "      <td>-14.0</td>\n",
              "      <td>5.0</td>\n",
              "      <td>-2.0</td>\n",
              "      <td>-31.0</td>\n",
              "      <td>-68.0</td>\n",
              "      <td>-108.0</td>\n",
              "      <td>-92.0</td>\n",
              "      <td>-76.0</td>\n",
              "      <td>-41.0</td>\n",
              "      <td>-41.0</td>\n",
              "      <td>15.0</td>\n",
              "      <td>59.0</td>\n",
              "      <td>99.0</td>\n",
              "      <td>114.0</td>\n",
              "      <td>75.0</td>\n",
              "      <td>25.0</td>\n",
              "      <td>-13.0</td>\n",
              "      <td>-2.0</td>\n",
              "      <td>16.0</td>\n",
              "      <td>33.0</td>\n",
              "      <td>48.0</td>\n",
              "      <td>21.0</td>\n",
              "      <td>-12.0</td>\n",
              "      <td>-51.0</td>\n",
              "      <td>-82.0</td>\n",
              "      <td>-67.0</td>\n",
              "      <td>...</td>\n",
              "      <td>16.0</td>\n",
              "      <td>18.0</td>\n",
              "      <td>20.0</td>\n",
              "      <td>23.0</td>\n",
              "      <td>32.0</td>\n",
              "      <td>38.0</td>\n",
              "      <td>35.0</td>\n",
              "      <td>-3.0</td>\n",
              "      <td>-34.0</td>\n",
              "      <td>-45.0</td>\n",
              "      <td>-50.0</td>\n",
              "      <td>-12.0</td>\n",
              "      <td>26.0</td>\n",
              "      <td>68.0</td>\n",
              "      <td>85.0</td>\n",
              "      <td>55.0</td>\n",
              "      <td>38.0</td>\n",
              "      <td>32.0</td>\n",
              "      <td>23.0</td>\n",
              "      <td>21.0</td>\n",
              "      <td>-9.0</td>\n",
              "      <td>-28.0</td>\n",
              "      <td>-46.0</td>\n",
              "      <td>-76.0</td>\n",
              "      <td>-91.0</td>\n",
              "      <td>-86.0</td>\n",
              "      <td>-67.0</td>\n",
              "      <td>-56.0</td>\n",
              "      <td>-22.0</td>\n",
              "      <td>-32.0</td>\n",
              "      <td>-32.0</td>\n",
              "      <td>-40.0</td>\n",
              "      <td>-23.0</td>\n",
              "      <td>-1.0</td>\n",
              "      <td>11.0</td>\n",
              "      <td>12.0</td>\n",
              "      <td>-6.0</td>\n",
              "      <td>10.0</td>\n",
              "      <td>33.0</td>\n",
              "      <td>0.0</td>\n",
              "    </tr>\n",
              "    <tr>\n",
              "      <th>S4</th>\n",
              "      <td>14.0</td>\n",
              "      <td>26.0</td>\n",
              "      <td>32.0</td>\n",
              "      <td>25.0</td>\n",
              "      <td>16.0</td>\n",
              "      <td>8.0</td>\n",
              "      <td>8.0</td>\n",
              "      <td>12.0</td>\n",
              "      <td>11.0</td>\n",
              "      <td>19.0</td>\n",
              "      <td>23.0</td>\n",
              "      <td>24.0</td>\n",
              "      <td>31.0</td>\n",
              "      <td>38.0</td>\n",
              "      <td>35.0</td>\n",
              "      <td>41.0</td>\n",
              "      <td>44.0</td>\n",
              "      <td>44.0</td>\n",
              "      <td>26.0</td>\n",
              "      <td>11.0</td>\n",
              "      <td>-4.0</td>\n",
              "      <td>-25.0</td>\n",
              "      <td>-32.0</td>\n",
              "      <td>-27.0</td>\n",
              "      <td>-32.0</td>\n",
              "      <td>-31.0</td>\n",
              "      <td>-23.0</td>\n",
              "      <td>-19.0</td>\n",
              "      <td>3.0</td>\n",
              "      <td>24.0</td>\n",
              "      <td>44.0</td>\n",
              "      <td>31.0</td>\n",
              "      <td>11.0</td>\n",
              "      <td>16.0</td>\n",
              "      <td>14.0</td>\n",
              "      <td>15.0</td>\n",
              "      <td>-11.0</td>\n",
              "      <td>-47.0</td>\n",
              "      <td>-49.0</td>\n",
              "      <td>-43.0</td>\n",
              "      <td>...</td>\n",
              "      <td>-28.0</td>\n",
              "      <td>-52.0</td>\n",
              "      <td>-37.0</td>\n",
              "      <td>-27.0</td>\n",
              "      <td>-8.0</td>\n",
              "      <td>0.0</td>\n",
              "      <td>6.0</td>\n",
              "      <td>8.0</td>\n",
              "      <td>18.0</td>\n",
              "      <td>19.0</td>\n",
              "      <td>8.0</td>\n",
              "      <td>5.0</td>\n",
              "      <td>2.0</td>\n",
              "      <td>14.0</td>\n",
              "      <td>6.0</td>\n",
              "      <td>2.0</td>\n",
              "      <td>-7.0</td>\n",
              "      <td>4.0</td>\n",
              "      <td>24.0</td>\n",
              "      <td>41.0</td>\n",
              "      <td>35.0</td>\n",
              "      <td>12.0</td>\n",
              "      <td>4.0</td>\n",
              "      <td>12.0</td>\n",
              "      <td>7.0</td>\n",
              "      <td>-7.0</td>\n",
              "      <td>-2.0</td>\n",
              "      <td>-6.0</td>\n",
              "      <td>-3.0</td>\n",
              "      <td>1.0</td>\n",
              "      <td>-19.0</td>\n",
              "      <td>-29.0</td>\n",
              "      <td>-35.0</td>\n",
              "      <td>-51.0</td>\n",
              "      <td>-55.0</td>\n",
              "      <td>-58.0</td>\n",
              "      <td>-32.0</td>\n",
              "      <td>-6.0</td>\n",
              "      <td>-17.0</td>\n",
              "      <td>0.0</td>\n",
              "    </tr>\n",
              "    <tr>\n",
              "      <th>...</th>\n",
              "      <td>...</td>\n",
              "      <td>...</td>\n",
              "      <td>...</td>\n",
              "      <td>...</td>\n",
              "      <td>...</td>\n",
              "      <td>...</td>\n",
              "      <td>...</td>\n",
              "      <td>...</td>\n",
              "      <td>...</td>\n",
              "      <td>...</td>\n",
              "      <td>...</td>\n",
              "      <td>...</td>\n",
              "      <td>...</td>\n",
              "      <td>...</td>\n",
              "      <td>...</td>\n",
              "      <td>...</td>\n",
              "      <td>...</td>\n",
              "      <td>...</td>\n",
              "      <td>...</td>\n",
              "      <td>...</td>\n",
              "      <td>...</td>\n",
              "      <td>...</td>\n",
              "      <td>...</td>\n",
              "      <td>...</td>\n",
              "      <td>...</td>\n",
              "      <td>...</td>\n",
              "      <td>...</td>\n",
              "      <td>...</td>\n",
              "      <td>...</td>\n",
              "      <td>...</td>\n",
              "      <td>...</td>\n",
              "      <td>...</td>\n",
              "      <td>...</td>\n",
              "      <td>...</td>\n",
              "      <td>...</td>\n",
              "      <td>...</td>\n",
              "      <td>...</td>\n",
              "      <td>...</td>\n",
              "      <td>...</td>\n",
              "      <td>...</td>\n",
              "      <td>...</td>\n",
              "      <td>...</td>\n",
              "      <td>...</td>\n",
              "      <td>...</td>\n",
              "      <td>...</td>\n",
              "      <td>...</td>\n",
              "      <td>...</td>\n",
              "      <td>...</td>\n",
              "      <td>...</td>\n",
              "      <td>...</td>\n",
              "      <td>...</td>\n",
              "      <td>...</td>\n",
              "      <td>...</td>\n",
              "      <td>...</td>\n",
              "      <td>...</td>\n",
              "      <td>...</td>\n",
              "      <td>...</td>\n",
              "      <td>...</td>\n",
              "      <td>...</td>\n",
              "      <td>...</td>\n",
              "      <td>...</td>\n",
              "      <td>...</td>\n",
              "      <td>...</td>\n",
              "      <td>...</td>\n",
              "      <td>...</td>\n",
              "      <td>...</td>\n",
              "      <td>...</td>\n",
              "      <td>...</td>\n",
              "      <td>...</td>\n",
              "      <td>...</td>\n",
              "      <td>...</td>\n",
              "      <td>...</td>\n",
              "      <td>...</td>\n",
              "      <td>...</td>\n",
              "      <td>...</td>\n",
              "      <td>...</td>\n",
              "      <td>...</td>\n",
              "      <td>...</td>\n",
              "      <td>...</td>\n",
              "      <td>...</td>\n",
              "      <td>...</td>\n",
              "    </tr>\n",
              "    <tr>\n",
              "      <th>S495</th>\n",
              "      <td>-40.0</td>\n",
              "      <td>-58.0</td>\n",
              "      <td>-75.0</td>\n",
              "      <td>-88.0</td>\n",
              "      <td>-89.0</td>\n",
              "      <td>-81.0</td>\n",
              "      <td>-67.0</td>\n",
              "      <td>-52.0</td>\n",
              "      <td>-28.0</td>\n",
              "      <td>14.0</td>\n",
              "      <td>67.0</td>\n",
              "      <td>114.0</td>\n",
              "      <td>148.0</td>\n",
              "      <td>158.0</td>\n",
              "      <td>161.0</td>\n",
              "      <td>147.0</td>\n",
              "      <td>119.0</td>\n",
              "      <td>68.0</td>\n",
              "      <td>8.0</td>\n",
              "      <td>-42.0</td>\n",
              "      <td>-79.0</td>\n",
              "      <td>-106.0</td>\n",
              "      <td>-104.0</td>\n",
              "      <td>-98.0</td>\n",
              "      <td>-93.0</td>\n",
              "      <td>-93.0</td>\n",
              "      <td>-108.0</td>\n",
              "      <td>-126.0</td>\n",
              "      <td>-142.0</td>\n",
              "      <td>-143.0</td>\n",
              "      <td>-127.0</td>\n",
              "      <td>-99.0</td>\n",
              "      <td>-69.0</td>\n",
              "      <td>-40.0</td>\n",
              "      <td>-25.0</td>\n",
              "      <td>-20.0</td>\n",
              "      <td>-17.0</td>\n",
              "      <td>-24.0</td>\n",
              "      <td>-37.0</td>\n",
              "      <td>-53.0</td>\n",
              "      <td>...</td>\n",
              "      <td>-25.0</td>\n",
              "      <td>-50.0</td>\n",
              "      <td>-64.0</td>\n",
              "      <td>-76.0</td>\n",
              "      <td>-77.0</td>\n",
              "      <td>-87.0</td>\n",
              "      <td>-101.0</td>\n",
              "      <td>-119.0</td>\n",
              "      <td>-146.0</td>\n",
              "      <td>-170.0</td>\n",
              "      <td>-193.0</td>\n",
              "      <td>-206.0</td>\n",
              "      <td>-209.0</td>\n",
              "      <td>-201.0</td>\n",
              "      <td>-185.0</td>\n",
              "      <td>-169.0</td>\n",
              "      <td>-164.0</td>\n",
              "      <td>-155.0</td>\n",
              "      <td>-144.0</td>\n",
              "      <td>-134.0</td>\n",
              "      <td>-135.0</td>\n",
              "      <td>-155.0</td>\n",
              "      <td>-185.0</td>\n",
              "      <td>-220.0</td>\n",
              "      <td>-221.0</td>\n",
              "      <td>-181.0</td>\n",
              "      <td>-115.0</td>\n",
              "      <td>-43.0</td>\n",
              "      <td>8.0</td>\n",
              "      <td>32.0</td>\n",
              "      <td>32.0</td>\n",
              "      <td>32.0</td>\n",
              "      <td>18.0</td>\n",
              "      <td>6.0</td>\n",
              "      <td>-3.0</td>\n",
              "      <td>-10.0</td>\n",
              "      <td>-13.0</td>\n",
              "      <td>-16.0</td>\n",
              "      <td>-151.0</td>\n",
              "      <td>1.0</td>\n",
              "    </tr>\n",
              "    <tr>\n",
              "      <th>S496</th>\n",
              "      <td>187.0</td>\n",
              "      <td>44.0</td>\n",
              "      <td>-147.0</td>\n",
              "      <td>-368.0</td>\n",
              "      <td>-550.0</td>\n",
              "      <td>-657.0</td>\n",
              "      <td>-665.0</td>\n",
              "      <td>-581.0</td>\n",
              "      <td>-442.0</td>\n",
              "      <td>-290.0</td>\n",
              "      <td>-151.0</td>\n",
              "      <td>-61.0</td>\n",
              "      <td>10.0</td>\n",
              "      <td>74.0</td>\n",
              "      <td>149.0</td>\n",
              "      <td>213.0</td>\n",
              "      <td>262.0</td>\n",
              "      <td>291.0</td>\n",
              "      <td>306.0</td>\n",
              "      <td>311.0</td>\n",
              "      <td>326.0</td>\n",
              "      <td>359.0</td>\n",
              "      <td>399.0</td>\n",
              "      <td>407.0</td>\n",
              "      <td>391.0</td>\n",
              "      <td>332.0</td>\n",
              "      <td>223.0</td>\n",
              "      <td>96.0</td>\n",
              "      <td>-84.0</td>\n",
              "      <td>-305.0</td>\n",
              "      <td>-509.0</td>\n",
              "      <td>-667.0</td>\n",
              "      <td>-709.0</td>\n",
              "      <td>-660.0</td>\n",
              "      <td>-536.0</td>\n",
              "      <td>-392.0</td>\n",
              "      <td>-247.0</td>\n",
              "      <td>-134.0</td>\n",
              "      <td>-61.0</td>\n",
              "      <td>19.0</td>\n",
              "      <td>...</td>\n",
              "      <td>575.0</td>\n",
              "      <td>412.0</td>\n",
              "      <td>117.0</td>\n",
              "      <td>-275.0</td>\n",
              "      <td>-672.0</td>\n",
              "      <td>-957.0</td>\n",
              "      <td>-1044.0</td>\n",
              "      <td>-997.0</td>\n",
              "      <td>-877.0</td>\n",
              "      <td>-719.0</td>\n",
              "      <td>-544.0</td>\n",
              "      <td>-374.0</td>\n",
              "      <td>-245.0</td>\n",
              "      <td>-157.0</td>\n",
              "      <td>-94.0</td>\n",
              "      <td>-26.0</td>\n",
              "      <td>39.0</td>\n",
              "      <td>119.0</td>\n",
              "      <td>181.0</td>\n",
              "      <td>237.0</td>\n",
              "      <td>278.0</td>\n",
              "      <td>315.0</td>\n",
              "      <td>342.0</td>\n",
              "      <td>366.0</td>\n",
              "      <td>385.0</td>\n",
              "      <td>399.0</td>\n",
              "      <td>409.0</td>\n",
              "      <td>415.0</td>\n",
              "      <td>428.0</td>\n",
              "      <td>463.0</td>\n",
              "      <td>510.0</td>\n",
              "      <td>562.0</td>\n",
              "      <td>607.0</td>\n",
              "      <td>667.0</td>\n",
              "      <td>748.0</td>\n",
              "      <td>763.0</td>\n",
              "      <td>703.0</td>\n",
              "      <td>446.0</td>\n",
              "      <td>-537.0</td>\n",
              "      <td>1.0</td>\n",
              "    </tr>\n",
              "    <tr>\n",
              "      <th>S497</th>\n",
              "      <td>-438.0</td>\n",
              "      <td>-561.0</td>\n",
              "      <td>-622.0</td>\n",
              "      <td>-581.0</td>\n",
              "      <td>-460.0</td>\n",
              "      <td>-295.0</td>\n",
              "      <td>-164.0</td>\n",
              "      <td>-70.0</td>\n",
              "      <td>3.0</td>\n",
              "      <td>66.0</td>\n",
              "      <td>139.0</td>\n",
              "      <td>229.0</td>\n",
              "      <td>257.0</td>\n",
              "      <td>283.0</td>\n",
              "      <td>193.0</td>\n",
              "      <td>105.0</td>\n",
              "      <td>41.0</td>\n",
              "      <td>90.0</td>\n",
              "      <td>220.0</td>\n",
              "      <td>372.0</td>\n",
              "      <td>466.0</td>\n",
              "      <td>488.0</td>\n",
              "      <td>443.0</td>\n",
              "      <td>293.0</td>\n",
              "      <td>92.0</td>\n",
              "      <td>-169.0</td>\n",
              "      <td>-351.0</td>\n",
              "      <td>-500.0</td>\n",
              "      <td>-587.0</td>\n",
              "      <td>-621.0</td>\n",
              "      <td>-534.0</td>\n",
              "      <td>-402.0</td>\n",
              "      <td>-232.0</td>\n",
              "      <td>-127.0</td>\n",
              "      <td>-63.0</td>\n",
              "      <td>-8.0</td>\n",
              "      <td>50.0</td>\n",
              "      <td>122.0</td>\n",
              "      <td>220.0</td>\n",
              "      <td>233.0</td>\n",
              "      <td>...</td>\n",
              "      <td>-246.0</td>\n",
              "      <td>-381.0</td>\n",
              "      <td>-459.0</td>\n",
              "      <td>-517.0</td>\n",
              "      <td>-512.0</td>\n",
              "      <td>-463.0</td>\n",
              "      <td>-375.0</td>\n",
              "      <td>-272.0</td>\n",
              "      <td>-189.0</td>\n",
              "      <td>-119.0</td>\n",
              "      <td>-42.0</td>\n",
              "      <td>51.0</td>\n",
              "      <td>165.0</td>\n",
              "      <td>263.0</td>\n",
              "      <td>354.0</td>\n",
              "      <td>418.0</td>\n",
              "      <td>434.0</td>\n",
              "      <td>407.0</td>\n",
              "      <td>334.0</td>\n",
              "      <td>253.0</td>\n",
              "      <td>184.0</td>\n",
              "      <td>133.0</td>\n",
              "      <td>100.0</td>\n",
              "      <td>93.0</td>\n",
              "      <td>114.0</td>\n",
              "      <td>157.0</td>\n",
              "      <td>228.0</td>\n",
              "      <td>315.0</td>\n",
              "      <td>395.0</td>\n",
              "      <td>440.0</td>\n",
              "      <td>443.0</td>\n",
              "      <td>399.0</td>\n",
              "      <td>319.0</td>\n",
              "      <td>196.0</td>\n",
              "      <td>40.0</td>\n",
              "      <td>-47.0</td>\n",
              "      <td>-118.0</td>\n",
              "      <td>-163.0</td>\n",
              "      <td>-56.0</td>\n",
              "      <td>1.0</td>\n",
              "    </tr>\n",
              "    <tr>\n",
              "      <th>S498</th>\n",
              "      <td>-476.0</td>\n",
              "      <td>-518.0</td>\n",
              "      <td>-521.0</td>\n",
              "      <td>-362.0</td>\n",
              "      <td>-68.0</td>\n",
              "      <td>175.0</td>\n",
              "      <td>289.0</td>\n",
              "      <td>184.0</td>\n",
              "      <td>15.0</td>\n",
              "      <td>-130.0</td>\n",
              "      <td>-241.0</td>\n",
              "      <td>-314.0</td>\n",
              "      <td>-349.0</td>\n",
              "      <td>-342.0</td>\n",
              "      <td>-342.0</td>\n",
              "      <td>-264.0</td>\n",
              "      <td>-51.0</td>\n",
              "      <td>264.0</td>\n",
              "      <td>633.0</td>\n",
              "      <td>681.0</td>\n",
              "      <td>496.0</td>\n",
              "      <td>96.0</td>\n",
              "      <td>-242.0</td>\n",
              "      <td>-399.0</td>\n",
              "      <td>-462.0</td>\n",
              "      <td>-495.0</td>\n",
              "      <td>-476.0</td>\n",
              "      <td>-366.0</td>\n",
              "      <td>-159.0</td>\n",
              "      <td>29.0</td>\n",
              "      <td>70.0</td>\n",
              "      <td>-24.0</td>\n",
              "      <td>-169.0</td>\n",
              "      <td>-269.0</td>\n",
              "      <td>-318.0</td>\n",
              "      <td>-329.0</td>\n",
              "      <td>-333.0</td>\n",
              "      <td>-318.0</td>\n",
              "      <td>-328.0</td>\n",
              "      <td>-253.0</td>\n",
              "      <td>...</td>\n",
              "      <td>-120.0</td>\n",
              "      <td>-69.0</td>\n",
              "      <td>228.0</td>\n",
              "      <td>557.0</td>\n",
              "      <td>882.0</td>\n",
              "      <td>929.0</td>\n",
              "      <td>841.0</td>\n",
              "      <td>613.0</td>\n",
              "      <td>309.0</td>\n",
              "      <td>89.0</td>\n",
              "      <td>-36.0</td>\n",
              "      <td>-85.0</td>\n",
              "      <td>-99.0</td>\n",
              "      <td>-100.0</td>\n",
              "      <td>-95.0</td>\n",
              "      <td>-95.0</td>\n",
              "      <td>-95.0</td>\n",
              "      <td>-96.0</td>\n",
              "      <td>-88.0</td>\n",
              "      <td>-76.0</td>\n",
              "      <td>-78.0</td>\n",
              "      <td>-74.0</td>\n",
              "      <td>-83.0</td>\n",
              "      <td>-106.0</td>\n",
              "      <td>-134.0</td>\n",
              "      <td>-160.0</td>\n",
              "      <td>-168.0</td>\n",
              "      <td>-176.0</td>\n",
              "      <td>-191.0</td>\n",
              "      <td>-224.0</td>\n",
              "      <td>-261.0</td>\n",
              "      <td>-248.0</td>\n",
              "      <td>-147.0</td>\n",
              "      <td>36.0</td>\n",
              "      <td>224.0</td>\n",
              "      <td>299.0</td>\n",
              "      <td>246.0</td>\n",
              "      <td>556.0</td>\n",
              "      <td>276.0</td>\n",
              "      <td>1.0</td>\n",
              "    </tr>\n",
              "    <tr>\n",
              "      <th>S499</th>\n",
              "      <td>23.0</td>\n",
              "      <td>144.0</td>\n",
              "      <td>228.0</td>\n",
              "      <td>260.0</td>\n",
              "      <td>255.0</td>\n",
              "      <td>218.0</td>\n",
              "      <td>178.0</td>\n",
              "      <td>126.0</td>\n",
              "      <td>60.0</td>\n",
              "      <td>6.0</td>\n",
              "      <td>-47.0</td>\n",
              "      <td>-90.0</td>\n",
              "      <td>-143.0</td>\n",
              "      <td>-181.0</td>\n",
              "      <td>-221.0</td>\n",
              "      <td>-264.0</td>\n",
              "      <td>-305.0</td>\n",
              "      <td>-346.0</td>\n",
              "      <td>-406.0</td>\n",
              "      <td>-506.0</td>\n",
              "      <td>-565.0</td>\n",
              "      <td>-474.0</td>\n",
              "      <td>-232.0</td>\n",
              "      <td>76.0</td>\n",
              "      <td>309.0</td>\n",
              "      <td>415.0</td>\n",
              "      <td>484.0</td>\n",
              "      <td>552.0</td>\n",
              "      <td>594.0</td>\n",
              "      <td>614.0</td>\n",
              "      <td>578.0</td>\n",
              "      <td>494.0</td>\n",
              "      <td>400.0</td>\n",
              "      <td>293.0</td>\n",
              "      <td>192.0</td>\n",
              "      <td>104.0</td>\n",
              "      <td>26.0</td>\n",
              "      <td>-22.0</td>\n",
              "      <td>-32.0</td>\n",
              "      <td>-46.0</td>\n",
              "      <td>...</td>\n",
              "      <td>247.0</td>\n",
              "      <td>320.0</td>\n",
              "      <td>388.0</td>\n",
              "      <td>499.0</td>\n",
              "      <td>579.0</td>\n",
              "      <td>640.0</td>\n",
              "      <td>675.0</td>\n",
              "      <td>595.0</td>\n",
              "      <td>475.0</td>\n",
              "      <td>300.0</td>\n",
              "      <td>118.0</td>\n",
              "      <td>-33.0</td>\n",
              "      <td>-106.0</td>\n",
              "      <td>-161.0</td>\n",
              "      <td>-190.0</td>\n",
              "      <td>-199.0</td>\n",
              "      <td>-195.0</td>\n",
              "      <td>-192.0</td>\n",
              "      <td>-178.0</td>\n",
              "      <td>-170.0</td>\n",
              "      <td>-154.0</td>\n",
              "      <td>-125.0</td>\n",
              "      <td>-100.0</td>\n",
              "      <td>-53.0</td>\n",
              "      <td>-21.0</td>\n",
              "      <td>-7.0</td>\n",
              "      <td>-29.0</td>\n",
              "      <td>-82.0</td>\n",
              "      <td>-125.0</td>\n",
              "      <td>-142.0</td>\n",
              "      <td>-127.0</td>\n",
              "      <td>-123.0</td>\n",
              "      <td>-152.0</td>\n",
              "      <td>-231.0</td>\n",
              "      <td>-272.0</td>\n",
              "      <td>-272.0</td>\n",
              "      <td>-155.0</td>\n",
              "      <td>6.0</td>\n",
              "      <td>-221.0</td>\n",
              "      <td>1.0</td>\n",
              "    </tr>\n",
              "  </tbody>\n",
              "</table>\n",
              "<p>500 rows × 4098 columns</p>\n",
              "</div>"
            ],
            "text/plain": [
              "         A0     A1     A2     A3     A4  ...  A4093  A4094  A4095  A4096  out\n",
              "S0     12.0   22.0   35.0   45.0   69.0  ...  -28.0  -11.0    8.0   77.0  0.0\n",
              "S1    -56.0  -50.0  -64.0  -91.0 -135.0  ... -180.0 -173.0 -162.0  -82.0  0.0\n",
              "S2    -37.0  -22.0  -17.0  -24.0  -31.0  ...    7.0    3.0    4.0   82.0  0.0\n",
              "S3    -31.0  -43.0  -39.0  -39.0   -9.0  ...   12.0   -6.0   10.0   33.0  0.0\n",
              "S4     14.0   26.0   32.0   25.0   16.0  ...  -58.0  -32.0   -6.0  -17.0  0.0\n",
              "...     ...    ...    ...    ...    ...  ...    ...    ...    ...    ...  ...\n",
              "S495  -40.0  -58.0  -75.0  -88.0  -89.0  ...  -10.0  -13.0  -16.0 -151.0  1.0\n",
              "S496  187.0   44.0 -147.0 -368.0 -550.0  ...  763.0  703.0  446.0 -537.0  1.0\n",
              "S497 -438.0 -561.0 -622.0 -581.0 -460.0  ...  -47.0 -118.0 -163.0  -56.0  1.0\n",
              "S498 -476.0 -518.0 -521.0 -362.0  -68.0  ...  299.0  246.0  556.0  276.0  1.0\n",
              "S499   23.0  144.0  228.0  260.0  255.0  ... -272.0 -155.0    6.0 -221.0  1.0\n",
              "\n",
              "[500 rows x 4098 columns]"
            ]
          },
          "metadata": {
            "tags": []
          },
          "execution_count": 18
        }
      ]
    },
    {
      "cell_type": "code",
      "metadata": {
        "id": "X96DTWRuRpD3",
        "colab_type": "code",
        "colab": {}
      },
      "source": [
        "df = TotalData.drop(['out'], axis =1)\n",
        "target = TotalData['out']"
      ],
      "execution_count": null,
      "outputs": []
    },
    {
      "cell_type": "markdown",
      "metadata": {
        "id": "68gpFjlE88ym",
        "colab_type": "text"
      },
      "source": [
        "# VISUALISING THE DATA POINTS"
      ]
    },
    {
      "cell_type": "code",
      "metadata": {
        "id": "Vr6J3T33b1vI",
        "colab_type": "code",
        "colab": {
          "base_uri": "https://localhost:8080/",
          "height": 498
        },
        "outputId": "47a48e3a-e0c2-414b-8a4e-61d961c79474"
      },
      "source": [
        "samples = np.arange(0,4097,1)\n",
        "plt.figure(figsize=(16,8))\n",
        "plt.subplot(2,1,1)\n",
        "plt.title('Non-Seizure')\n",
        "plt.plot(samples,matNS[:,0], label = 'Non-Seizure')\n",
        "plt.subplot(2,1,2)\n",
        "plt.title('Seizure')\n",
        "plt.plot(samples,matE[:,0],label= 'Seizure')\n",
        "plt.savefig('ns.png')\n",
        "plt.show()"
      ],
      "execution_count": null,
      "outputs": [
        {
          "output_type": "display_data",
          "data": {
            "image/png": "[encoded data removed]",
            "text/plain": [
              "<Figure size 1152x576 with 2 Axes>"
            ]
          },
          "metadata": {
            "tags": [],
            "needs_background": "light"
          }
        }
      ]
    },
    {
      "cell_type": "markdown",
      "metadata": {
        "id": "6UJcLEYhcpm-",
        "colab_type": "text"
      },
      "source": [
        "#APPLYING WAVELET TRANFORM"
      ]
    },
    {
      "cell_type": "markdown",
      "metadata": {
        "id": "BHKJsui1eIfS",
        "colab_type": "text"
      },
      "source": [
        "##DECOMPOSITION OF SIGNAL INTO SUB-BANDS"
      ]
    },
    {
      "cell_type": "code",
      "metadata": {
        "id": "wK9_pQUtcw7W",
        "colab_type": "code",
        "colab": {}
      },
      "source": [
        "final_values = []"
      ],
      "execution_count": null,
      "outputs": []
    },
    {
      "cell_type": "code",
      "metadata": {
        "id": "mGp2UpNV0ijt",
        "colab_type": "code",
        "colab": {
          "base_uri": "https://localhost:8080/",
          "height": 70
        },
        "outputId": "a95c2c7a-a7e1-4a38-a9ee-a156a2e2baae"
      },
      "source": [
        "filters = pywt.wavelist('bior')\n",
        "print(filters)\n",
        "print(len(filters))\n",
        "level =1\n",
        "w_name = 'bior6.8'"
      ],
      "execution_count": null,
      "outputs": [
        {
          "output_type": "stream",
          "text": [
            "['bior1.1', 'bior1.3', 'bior1.5', 'bior2.2', 'bior2.4', 'bior2.6', 'bior2.8', 'bior3.1', 'bior3.3', 'bior3.5', 'bior3.7', 'bior3.9', 'bior4.4', 'bior5.5', 'bior6.8']\n",
            "15\n"
          ],
          "name": "stdout"
        }
      ]
    },
    {
      "cell_type": "code",
      "metadata": {
        "id": "Q1UaJimwSrxI",
        "colab_type": "code",
        "colab": {
          "base_uri": "https://localhost:8080/",
          "height": 53
        },
        "outputId": "5196bb52-006c-48c9-d227-3f2da828a7cf"
      },
      "source": [
        "\"\"\"def getWaveletFeatures(data,target):\n",
        "    list_features = []\n",
        "    for signal in range(len(data)):\n",
        "      w = pywt.Wavelet(w_name)\n",
        "      list_coeff = pywt.wavedec(data.iloc[signal], w, mode='constant', level=level)\n",
        "      features = []\n",
        "      for coeff in list_coeff:\n",
        "          features += build_features(coeff)\n",
        "      list_features.append(features)\n",
        "    return createDfWavelet(list_features,target)\"\"\""
      ],
      "execution_count": null,
      "outputs": [
        {
          "output_type": "execute_result",
          "data": {
            "text/plain": [
              "\"def getWaveletFeatures(data,target):\\n    list_features = []\\n    for signal in range(len(data)):\\n      w = pywt.Wavelet(w_name)\\n      list_coeff = pywt.wavedec(data.iloc[signal], w, mode='constant', level=level)\\n      features = []\\n      for coeff in list_coeff:\\n          features += build_features(coeff)\\n      list_features.append(features)\\n    return createDfWavelet(list_features,target)\""
            ]
          },
          "metadata": {
            "tags": []
          },
          "execution_count": 828
        }
      ]
    },
    {
      "cell_type": "code",
      "metadata": {
        "id": "UJFuhABWSv9j",
        "colab_type": "code",
        "colab": {
          "base_uri": "https://localhost:8080/",
          "height": 33
        },
        "outputId": "2f6b84cb-2f89-427d-f253-9e78eaaea037"
      },
      "source": [
        "\"\"\"def createDfWavelet(data,target):\n",
        "  for i in range(len(data)):\n",
        "    data[i].append(target[i])\n",
        "  return pd.DataFrame(data)\"\"\""
      ],
      "execution_count": null,
      "outputs": [
        {
          "output_type": "execute_result",
          "data": {
            "text/plain": [
              "'def createDfWavelet(data,target):\\n  for i in range(len(data)):\\n    data[i].append(target[i])\\n  return pd.DataFrame(data)'"
            ]
          },
          "metadata": {
            "tags": []
          },
          "execution_count": 829
        }
      ]
    },
    {
      "cell_type": "code",
      "metadata": {
        "id": "hRZTqXE046zM",
        "colab_type": "code",
        "colab": {
          "base_uri": "https://localhost:8080/",
          "height": 33
        },
        "outputId": "a90f15bf-1d62-443e-b589-34c6643bbfee"
      },
      "source": [
        "\"\"\"print(len(df.T))\"\"\""
      ],
      "execution_count": null,
      "outputs": [
        {
          "output_type": "execute_result",
          "data": {
            "text/plain": [
              "'print(len(df.T))'"
            ]
          },
          "metadata": {
            "tags": []
          },
          "execution_count": 830
        }
      ]
    },
    {
      "cell_type": "code",
      "metadata": {
        "id": "uLYFsa-XTrXk",
        "colab_type": "code",
        "colab": {
          "base_uri": "https://localhost:8080/",
          "height": 33
        },
        "outputId": "4a7b7d5d-509a-4e23-b75c-3ec88c1fa802"
      },
      "source": [
        "\"\"\"df_fea = getWaveletFeatures(df,target)\"\"\"\n"
      ],
      "execution_count": null,
      "outputs": [
        {
          "output_type": "execute_result",
          "data": {
            "text/plain": [
              "'df_fea = getWaveletFeatures(df,target)'"
            ]
          },
          "metadata": {
            "tags": []
          },
          "execution_count": 831
        }
      ]
    },
    {
      "cell_type": "code",
      "metadata": {
        "id": "8-2IcqBx6Rpc",
        "colab_type": "code",
        "colab": {
          "base_uri": "https://localhost:8080/",
          "height": 33
        },
        "outputId": "282a1114-5ca8-4f73-c19f-aad83d1b8e53"
      },
      "source": [
        "\"\"\"print(df_fea)\"\"\""
      ],
      "execution_count": null,
      "outputs": [
        {
          "output_type": "execute_result",
          "data": {
            "text/plain": [
              "'print(df_fea)'"
            ]
          },
          "metadata": {
            "tags": []
          },
          "execution_count": 832
        }
      ]
    },
    {
      "cell_type": "code",
      "metadata": {
        "id": "y5dVnCIfn5Ni",
        "colab_type": "code",
        "colab": {}
      },
      "source": [
        "w = pywt.Wavelet(w_name)\n",
        "temp_cA = []\n",
        "temp_cD1 = []\n",
        "for i in matNS.T:\n",
        "  cA,cD1 = pywt.wavedec(i, w, mode='constant', level=level)\n",
        "  temp_cA.append(cA)\n",
        "  temp_cD1.append(cD1)\n",
        "\n",
        "coeff_cA = np.array(temp_cA)\n",
        "coeff_cD1 = np.array(temp_cD1)"
      ],
      "execution_count": null,
      "outputs": []
    },
    {
      "cell_type": "code",
      "metadata": {
        "id": "hd1O2spoPcUs",
        "colab_type": "code",
        "colab": {}
      },
      "source": [
        "w = pywt.Wavelet(w_name)\n",
        "temp_cA_S = []\n",
        "temp_cD1_S = []\n",
        "for i in matE.T:\n",
        "  cA_S,cD1_S = pywt.wavedec(i, w, mode='constant', level=level)\n",
        "  temp_cA_S.append(cA_S)\n",
        "  temp_cD1_S.append(cD1_S)\n",
        "coeff_cA_S = np.array(temp_cA_S)\n",
        "coeff_cD1_S = np.array(temp_cD1_S)"
      ],
      "execution_count": null,
      "outputs": []
    },
    {
      "cell_type": "code",
      "metadata": {
        "id": "8vjD95tzIYBT",
        "colab_type": "code",
        "colab": {
          "base_uri": "https://localhost:8080/",
          "height": 82
        },
        "outputId": "9d223fd6-b86f-4057-e523-a44736138d4e"
      },
      "source": [
        "print(len(coeff_cA_S[0]))\n",
        "print(coeff_cD1_S.shape)\n",
        "print(coeff_cA.shape)\n",
        "print(coeff_cD1.shape)"
      ],
      "execution_count": null,
      "outputs": [
        {
          "output_type": "stream",
          "text": [
            "2057\n",
            "(100, 2057)\n",
            "(400, 2057)\n",
            "(400, 2057)\n"
          ],
          "name": "stdout"
        }
      ]
    },
    {
      "cell_type": "code",
      "metadata": {
        "id": "OxOZvWBmbZ1k",
        "colab_type": "code",
        "colab": {}
      },
      "source": [
        "coeff_cA_total = np.concatenate([coeff_cA, coeff_cA_S])\n",
        "coeff_cD1_total = np.concatenate([coeff_cD1, coeff_cD1_S])"
      ],
      "execution_count": null,
      "outputs": []
    },
    {
      "cell_type": "markdown",
      "metadata": {
        "id": "rLhNZYB2eAEc",
        "colab_type": "text"
      },
      "source": [
        "##VISUALISING THE SUB-BANDS"
      ]
    },
    {
      "cell_type": "code",
      "metadata": {
        "id": "68rMkSJQaztv",
        "colab_type": "code",
        "colab": {
          "base_uri": "https://localhost:8080/",
          "height": 611
        },
        "outputId": "5a3d5332-a4e2-497e-a6b2-259fe4e00dc2"
      },
      "source": [
        "\n",
        "plt.figure(figsize=(10,10))\n",
        "plt.subplot(level+1,1,1)\n",
        "plt.ylabel('cA')\n",
        "plt.xlabel('Samples')\n",
        "plt.plot(np.arange(0,len(coeff_cA[0]),1),coeff_cA[0,:].T)\n",
        "\n",
        "plt.subplot(level+1,1,2)\n",
        "plt.ylabel('cD1')\n",
        "plt.xlabel('Samples')\n",
        "plt.plot(np.arange(0,len(coeff_cD1[0]),1),coeff_cD1[0,:].T)\n",
        "\n",
        "plt.show()"
      ],
      "execution_count": null,
      "outputs": [
        {
          "output_type": "display_data",
          "data": {
            "image/png": "[encoded data removed]",
            "text/plain": [
              "<Figure size 720x720 with 2 Axes>"
            ]
          },
          "metadata": {
            "tags": []
          }
        }
      ]
    },
    {
      "cell_type": "markdown",
      "metadata": {
        "id": "HgU7xmfI88yu",
        "colab_type": "text"
      },
      "source": [
        "# FEATURE EXTRACTION "
      ]
    },
    {
      "cell_type": "markdown",
      "metadata": {
        "id": "t8ZbL9ES88yv",
        "colab_type": "text"
      },
      "source": [
        "## SVD_Entropy, Fisher_Information, PFD"
      ]
    },
    {
      "cell_type": "code",
      "metadata": {
        "scrolled": false,
        "id": "bZbuyEYktDn0",
        "colab_type": "code",
        "colab": {
          "base_uri": "https://localhost:8080/",
          "height": 1000
        },
        "outputId": "e78f22c7-4150-43d5-9460-b156e7da0497"
      },
      "source": [
        "help(pyeeg.svd_entropy),help(pyeeg.fisher_info),help(pyeeg.pfd)"
      ],
      "execution_count": null,
      "outputs": [
        {
          "output_type": "stream",
          "text": [
            "Help on function svd_entropy in module pyeeg.entropy:\n",
            "\n",
            "svd_entropy(X, Tau, DE, W=None)\n",
            "    Compute SVD Entropy from either two cases below:\n",
            "    1. a time series X, with lag tau and embedding dimension dE (default)\n",
            "    2. a list, W, of normalized singular values of a matrix (if W is provided,\n",
            "    recommend to speed up.)\n",
            "    \n",
            "    If W is None, the function will do as follows to prepare singular spectrum:\n",
            "    \n",
            "        First, computer an embedding matrix from X, Tau and DE using pyeeg\n",
            "        function embed_seq():\n",
            "                    M = embed_seq(X, Tau, DE)\n",
            "    \n",
            "        Second, use scipy.linalg function svd to decompose the embedding matrix\n",
            "        M and obtain a list of singular values:\n",
            "                    W = svd(M, compute_uv=0)\n",
            "    \n",
            "        At last, normalize W:\n",
            "                    W /= sum(W)\n",
            "    \n",
            "    Notes\n",
            "    -------------\n",
            "    \n",
            "    To speed up, it is recommended to compute W before calling this function\n",
            "    because W may also be used by other functions whereas computing it here\n",
            "    again will slow down.\n",
            "\n",
            "Help on function fisher_info in module pyeeg.fisher_info:\n",
            "\n",
            "fisher_info(X, Tau, DE, W=None)\n",
            "    Compute SVD Entropy from either two cases below:\n",
            "    1. a time series X, with lag tau and embedding dimension dE (default)\n",
            "    2. a list, W, of normalized singular values of a matrix (if W is provided,\n",
            "    recommend to speed up.)\n",
            "    \n",
            "    If W is None, the function will do as follows to prepare singular spectrum:\n",
            "    \n",
            "        First, computer an embedding matrix from X, Tau and DE using pyeeg\n",
            "        function embed_seq():\n",
            "                    M = embed_seq(X, Tau, DE)\n",
            "    \n",
            "        Second, use scipy.linalg function svd to decompose the embedding matrix\n",
            "        M and obtain a list of singular values:\n",
            "                    W = svd(M, compute_uv=0)\n",
            "    \n",
            "        At last, normalize W:\n",
            "                    W /= sum(W)\n",
            "    \n",
            "    Notes\n",
            "    -------------\n",
            "    \n",
            "    To speed up, it is recommended to compute W before calling this function\n",
            "    because W may also be used by other functions whereas computing it here\n",
            "    again will slow down.\n",
            "\n",
            "Help on function pfd in module pyeeg.fractal_dimension:\n",
            "\n",
            "pfd(X, D=None)\n",
            "    Compute Petrosian Fractal Dimension of a time series from either two\n",
            "    cases below:\n",
            "        1. X, the time series of type list (default)\n",
            "        2. D, the first order differential sequence of X (if D is provided,\n",
            "           recommended to speed up)\n",
            "    \n",
            "    In case 1, D is computed using Numpy's difference function.\n",
            "    \n",
            "    To speed up, it is recommended to compute D before calling this function\n",
            "    because D may also be used by other functions whereas computing it here\n",
            "    again will slow down.\n",
            "\n"
          ],
          "name": "stdout"
        },
        {
          "output_type": "execute_result",
          "data": {
            "text/plain": [
              "(None, None, None)"
            ]
          },
          "metadata": {
            "tags": []
          },
          "execution_count": 838
        }
      ]
    },
    {
      "cell_type": "code",
      "metadata": {
        "id": "tmtoAhCc88y3",
        "colab_type": "code",
        "colab": {}
      },
      "source": [
        "# source: https://www.hindawi.com/journals/cin/2011/406391/\n",
        "def build_features(mat):\n",
        "    Kmax = 5\n",
        "    Tau  = 4\n",
        "    DE   = 10\n",
        "    M    = 10\n",
        "    R    = 0.3\n",
        "    Band = np.arange(1,86)\n",
        "    Fs   = 173\n",
        "    #DFA                = pyeeg.dfa(mat)\n",
        "    HFD                = pyeeg.hfd(mat,Kmax)\n",
        "    SVD_Entropy        = pyeeg.svd_entropy(mat,Tau,DE)\n",
        "    #Fisher_Information = pyeeg.fisher_info(mat,Tau,DE)\n",
        "    PFD                = pyeeg.pfd(mat)\n",
        "    sleep(0.01)\n",
        "    \n",
        "    return (SVD_Entropy,HFD,PFD)"
      ],
      "execution_count": null,
      "outputs": []
    },
    {
      "cell_type": "markdown",
      "metadata": {
        "collapsed": true,
        "id": "IR-gVaV588y-",
        "colab_type": "text"
      },
      "source": [
        "## COMPUTE THE FEATURES OF DATASET\n",
        "A binary classification for epilectic seizures where class 1 is Non-Seizure class having value (01) and class 2 is Siezure class having value (10)"
      ]
    },
    {
      "cell_type": "code",
      "metadata": {
        "id": "R0N4jpA788zE",
        "colab_type": "code",
        "colab": {
          "base_uri": "https://localhost:8080/",
          "height": 70
        },
        "outputId": "f3981ab7-b9ad-43bd-88cd-bda5496f88b1"
      },
      "source": [
        "# create features of class I and cA\n",
        "f1_cA_NS    = np.zeros((400,1))\n",
        "f2_cA_NS    = np.zeros((400,1))\n",
        "f3_cA_NS    = np.zeros((400,1))\n",
        "\n",
        "for i in range(400):\n",
        "    [f1_cA_NS[i,0],f2_cA_NS[i,0],f3_cA_NS[i,0]]=build_features(coeff_cA.T[:,i])\n",
        "\n",
        "# create features of class I and cD1\n",
        "f1_cD1_NS    = np.zeros((400,1))\n",
        "f2_cD1_NS    = np.zeros((400,1))\n",
        "f3_cD1_NS    = np.zeros((400,1))\n",
        "\n",
        "for i in range(400):\n",
        "    [f1_cD1_NS[i,0],f2_cD1_NS[i,0],f3_cD1_NS[i,0]]=build_features(coeff_cD1.T[:,i])\n",
        "  \n",
        "    "
      ],
      "execution_count": null,
      "outputs": [
        {
          "output_type": "stream",
          "text": [
            "/usr/local/lib/python3.6/dist-packages/pyeeg-0.4.4-py3.6.egg/pyeeg/fractal_dimension.py:22: FutureWarning: `rcond` parameter will change to the default of machine precision times ``max(M, N)`` where M and N are the input matrix dimensions.\n",
            "To use the future default and silence this warning we advise to pass `rcond=None`, to keep using the old, explicitly pass `rcond=-1`.\n"
          ],
          "name": "stderr"
        }
      ]
    },
    {
      "cell_type": "code",
      "metadata": {
        "id": "Ojn06sTmIV8O",
        "colab_type": "code",
        "colab": {
          "base_uri": "https://localhost:8080/",
          "height": 70
        },
        "outputId": "e66b8658-a61c-47a7-eb99-48eabac32d84"
      },
      "source": [
        "# create features of class II (SEIZURE and cA)\n",
        "f1_cA_S    = np.zeros((100,1))\n",
        "f2_cA_S    = np.zeros((100,1))\n",
        "f3_cA_S    = np.zeros((100,1))\n",
        "\n",
        "for i in range(100):\n",
        "    [f1_cA_S[i,0],f2_cA_S[i,0],f3_cA_S[i,0]]=build_features(coeff_cA_S.T[:,i])\n",
        "\n",
        "# create features of class II (SEIZURE and cD1)\n",
        "f1_cD1_S    = np.zeros((100,1))\n",
        "f2_cD1_S    = np.zeros((100,1))\n",
        "f3_cD1_S    = np.zeros((100,1))\n",
        "\n",
        "for i in range(100):\n",
        "    [f1_cD1_S[i,0],f2_cD1_S[i,0],f3_cD1_S[i,0]]=build_features(coeff_cD1_S.T[:,i])\n",
        "    "
      ],
      "execution_count": null,
      "outputs": [
        {
          "output_type": "stream",
          "text": [
            "/usr/local/lib/python3.6/dist-packages/pyeeg-0.4.4-py3.6.egg/pyeeg/fractal_dimension.py:22: FutureWarning: `rcond` parameter will change to the default of machine precision times ``max(M, N)`` where M and N are the input matrix dimensions.\n",
            "To use the future default and silence this warning we advise to pass `rcond=None`, to keep using the old, explicitly pass `rcond=-1`.\n"
          ],
          "name": "stderr"
        }
      ]
    },
    {
      "cell_type": "code",
      "metadata": {
        "id": "HjRTX7qDtseJ",
        "colab_type": "code",
        "colab": {}
      },
      "source": [
        "cl_2_NS    = np.ones((400,1))\n",
        "cl_2_S = np.zeros((100,1))\n",
        "cl_1_S    = np.ones((100,1))\n",
        "cl_1_NS = np.zeros((400,1))"
      ],
      "execution_count": null,
      "outputs": []
    },
    {
      "cell_type": "markdown",
      "metadata": {
        "id": "vJ6KlUrZ88zR",
        "colab_type": "text"
      },
      "source": [
        "## CREATE FEATURE AND CLASS MATRIX"
      ]
    },
    {
      "cell_type": "code",
      "metadata": {
        "id": "BscI-fCh88zS",
        "colab_type": "code",
        "colab": {}
      },
      "source": [
        "MftNS = np.concatenate([f1_cA_NS, f2_cA_NS, f3_cA_NS, f1_cD1_NS, f2_cD1_NS, f3_cD1_NS, cl_1_NS, cl_2_NS], axis=1)\n",
        "MftS =  np.concatenate([f1_cA_S, f2_cA_S, f3_cA_S, f1_cD1_S, f2_cD1_S, f3_cD1_S,cl_1_S, cl_2_S], axis=1)"
      ],
      "execution_count": null,
      "outputs": []
    },
    {
      "cell_type": "code",
      "metadata": {
        "id": "qGBVDx8n88zU",
        "colab_type": "code",
        "colab": {}
      },
      "source": [
        "FCM_NS = pd.DataFrame(MftNS,columns=['f1','f2','f3','f4','f5','f6','class1', 'class2'])\n",
        "FCM_S  = pd.DataFrame(MftS ,columns=['f1','f2','f3','f4','f5','f6','class1', 'class2'])"
      ],
      "execution_count": null,
      "outputs": []
    },
    {
      "cell_type": "code",
      "metadata": {
        "id": "VvCRZEHNSY5w",
        "colab_type": "code",
        "colab": {
          "base_uri": "https://localhost:8080/",
          "height": 162
        },
        "outputId": "882f21c1-b050-46ba-ba4a-78b5f7e34678"
      },
      "source": [
        "FCM_NS.head(4)"
      ],
      "execution_count": null,
      "outputs": [
        {
          "output_type": "execute_result",
          "data": {
            "text/html": [
              "<div>\n",
              "<style scoped>\n",
              "    .dataframe tbody tr th:only-of-type {\n",
              "        vertical-align: middle;\n",
              "    }\n",
              "\n",
              "    .dataframe tbody tr th {\n",
              "        vertical-align: top;\n",
              "    }\n",
              "\n",
              "    .dataframe thead th {\n",
              "        text-align: right;\n",
              "    }\n",
              "</style>\n",
              "<table border=\"1\" class=\"dataframe\">\n",
              "  <thead>\n",
              "    <tr style=\"text-align: right;\">\n",
              "      <th></th>\n",
              "      <th>f1</th>\n",
              "      <th>f2</th>\n",
              "      <th>f3</th>\n",
              "      <th>f4</th>\n",
              "      <th>f5</th>\n",
              "      <th>f6</th>\n",
              "      <th>class1</th>\n",
              "      <th>class2</th>\n",
              "    </tr>\n",
              "  </thead>\n",
              "  <tbody>\n",
              "    <tr>\n",
              "      <th>0</th>\n",
              "      <td>2.274127</td>\n",
              "      <td>0.441751</td>\n",
              "      <td>0.570275</td>\n",
              "      <td>2.239637</td>\n",
              "      <td>1.029616</td>\n",
              "      <td>0.542541</td>\n",
              "      <td>0.0</td>\n",
              "      <td>1.0</td>\n",
              "    </tr>\n",
              "    <tr>\n",
              "      <th>1</th>\n",
              "      <td>2.160172</td>\n",
              "      <td>0.497744</td>\n",
              "      <td>0.568732</td>\n",
              "      <td>2.292064</td>\n",
              "      <td>0.995775</td>\n",
              "      <td>0.545959</td>\n",
              "      <td>0.0</td>\n",
              "      <td>1.0</td>\n",
              "    </tr>\n",
              "    <tr>\n",
              "      <th>2</th>\n",
              "      <td>2.257408</td>\n",
              "      <td>0.452690</td>\n",
              "      <td>0.571829</td>\n",
              "      <td>2.272285</td>\n",
              "      <td>1.000131</td>\n",
              "      <td>0.543702</td>\n",
              "      <td>0.0</td>\n",
              "      <td>1.0</td>\n",
              "    </tr>\n",
              "    <tr>\n",
              "      <th>3</th>\n",
              "      <td>2.294445</td>\n",
              "      <td>0.606184</td>\n",
              "      <td>0.564549</td>\n",
              "      <td>2.300521</td>\n",
              "      <td>0.928181</td>\n",
              "      <td>0.548909</td>\n",
              "      <td>0.0</td>\n",
              "      <td>1.0</td>\n",
              "    </tr>\n",
              "  </tbody>\n",
              "</table>\n",
              "</div>"
            ],
            "text/plain": [
              "         f1        f2        f3        f4        f5        f6  class1  class2\n",
              "0  2.274127  0.441751  0.570275  2.239637  1.029616  0.542541     0.0     1.0\n",
              "1  2.160172  0.497744  0.568732  2.292064  0.995775  0.545959     0.0     1.0\n",
              "2  2.257408  0.452690  0.571829  2.272285  1.000131  0.543702     0.0     1.0\n",
              "3  2.294445  0.606184  0.564549  2.300521  0.928181  0.548909     0.0     1.0"
            ]
          },
          "metadata": {
            "tags": []
          },
          "execution_count": 845
        }
      ]
    },
    {
      "cell_type": "code",
      "metadata": {
        "id": "CXNdaz-USh0w",
        "colab_type": "code",
        "colab": {
          "base_uri": "https://localhost:8080/",
          "height": 162
        },
        "outputId": "1b6b1e38-5a9c-40a1-ee37-f102f7e34446"
      },
      "source": [
        "FCM_S.head(4)"
      ],
      "execution_count": null,
      "outputs": [
        {
          "output_type": "execute_result",
          "data": {
            "text/html": [
              "<div>\n",
              "<style scoped>\n",
              "    .dataframe tbody tr th:only-of-type {\n",
              "        vertical-align: middle;\n",
              "    }\n",
              "\n",
              "    .dataframe tbody tr th {\n",
              "        vertical-align: top;\n",
              "    }\n",
              "\n",
              "    .dataframe thead th {\n",
              "        text-align: right;\n",
              "    }\n",
              "</style>\n",
              "<table border=\"1\" class=\"dataframe\">\n",
              "  <thead>\n",
              "    <tr style=\"text-align: right;\">\n",
              "      <th></th>\n",
              "      <th>f1</th>\n",
              "      <th>f2</th>\n",
              "      <th>f3</th>\n",
              "      <th>f4</th>\n",
              "      <th>f5</th>\n",
              "      <th>f6</th>\n",
              "      <th>class1</th>\n",
              "      <th>class2</th>\n",
              "    </tr>\n",
              "  </thead>\n",
              "  <tbody>\n",
              "    <tr>\n",
              "      <th>0</th>\n",
              "      <td>2.288602</td>\n",
              "      <td>0.433765</td>\n",
              "      <td>0.581901</td>\n",
              "      <td>2.301802</td>\n",
              "      <td>1.025866</td>\n",
              "      <td>0.544324</td>\n",
              "      <td>1.0</td>\n",
              "      <td>0.0</td>\n",
              "    </tr>\n",
              "    <tr>\n",
              "      <th>1</th>\n",
              "      <td>2.276710</td>\n",
              "      <td>0.553028</td>\n",
              "      <td>0.575705</td>\n",
              "      <td>2.302293</td>\n",
              "      <td>1.009446</td>\n",
              "      <td>0.546849</td>\n",
              "      <td>1.0</td>\n",
              "      <td>0.0</td>\n",
              "    </tr>\n",
              "    <tr>\n",
              "      <th>2</th>\n",
              "      <td>2.289532</td>\n",
              "      <td>0.552573</td>\n",
              "      <td>0.576789</td>\n",
              "      <td>2.300412</td>\n",
              "      <td>1.056819</td>\n",
              "      <td>0.547217</td>\n",
              "      <td>1.0</td>\n",
              "      <td>0.0</td>\n",
              "    </tr>\n",
              "    <tr>\n",
              "      <th>3</th>\n",
              "      <td>2.206426</td>\n",
              "      <td>0.251663</td>\n",
              "      <td>0.587200</td>\n",
              "      <td>2.300442</td>\n",
              "      <td>1.032809</td>\n",
              "      <td>0.546905</td>\n",
              "      <td>1.0</td>\n",
              "      <td>0.0</td>\n",
              "    </tr>\n",
              "  </tbody>\n",
              "</table>\n",
              "</div>"
            ],
            "text/plain": [
              "         f1        f2        f3        f4        f5        f6  class1  class2\n",
              "0  2.288602  0.433765  0.581901  2.301802  1.025866  0.544324     1.0     0.0\n",
              "1  2.276710  0.553028  0.575705  2.302293  1.009446  0.546849     1.0     0.0\n",
              "2  2.289532  0.552573  0.576789  2.300412  1.056819  0.547217     1.0     0.0\n",
              "3  2.206426  0.251663  0.587200  2.300442  1.032809  0.546905     1.0     0.0"
            ]
          },
          "metadata": {
            "tags": []
          },
          "execution_count": 846
        }
      ]
    },
    {
      "cell_type": "code",
      "metadata": {
        "id": "6YGludQA88zX",
        "colab_type": "code",
        "colab": {}
      },
      "source": [
        "TotalDataset = pd.concat([FCM_NS,FCM_S],ignore_index=True)\n",
        "\n",
        "visDat = TotalDataset.drop([\"class2\"],axis=1)\n",
        "visDat['class1'] = visDat['class1'].map({1:'seizure',0:'Non-Seizure'})"
      ],
      "execution_count": null,
      "outputs": []
    },
    {
      "cell_type": "code",
      "metadata": {
        "id": "cwJdrgiGphDx",
        "colab_type": "code",
        "colab": {
          "base_uri": "https://localhost:8080/",
          "height": 33
        },
        "outputId": "3caab53c-1c1f-4d81-9dbe-48b5be6076bc"
      },
      "source": [
        "print(TotalDataset.shape)"
      ],
      "execution_count": null,
      "outputs": [
        {
          "output_type": "stream",
          "text": [
            "(500, 8)\n"
          ],
          "name": "stdout"
        }
      ]
    },
    {
      "cell_type": "markdown",
      "metadata": {
        "id": "hIoskADoK9jt",
        "colab_type": "text"
      },
      "source": [
        "## KRUSKAL-WALLIS H-TEST "
      ]
    },
    {
      "cell_type": "code",
      "metadata": {
        "id": "on6_YEm8VnzN",
        "colab_type": "code",
        "colab": {
          "base_uri": "https://localhost:8080/",
          "height": 82
        },
        "outputId": "129fd0a0-8db2-4d01-a95f-15a0bd2397f7"
      },
      "source": [
        "f = ['cA', 'cD1']\n",
        "H = []\n",
        "pval = []\n",
        "from scipy.stats import mstats\n",
        "for i in range(0,3*(level+1), 3):\n",
        "\n",
        "  print(\"Kruskal Wallis H-test test:\")\n",
        "\n",
        "  h, p = mstats.kruskalwallis(MftNS[:,i], MftS[:,i])\n",
        "  H.append(h)\n",
        "  pval.append(p)\n",
        "  if  pval[int(i/(level+1))] < 0.05:\n",
        "      print(\"Reject NULL hypothesis - Significant differences exist between groups.\")\n",
        "  if  pval[int(i/(level+1))] > 0.05:\n",
        "      print(\"Accept NULL hypothesis - No significant difference between groups.\")\n",
        "\n",
        "H = np.array(H)\n",
        "pval = np.array(pval)\n",
        "P_Table = np.concatenate([H.reshape(len(H),1), pval.reshape(len(pval),1)], axis = 1)\n",
        "P_Tables = pd.DataFrame(P_Table, columns = ['H-value', 'P-Value'], index = f)\n"
      ],
      "execution_count": null,
      "outputs": [
        {
          "output_type": "stream",
          "text": [
            "Kruskal Wallis H-test test:\n",
            "Reject NULL hypothesis - Significant differences exist between groups.\n",
            "Kruskal Wallis H-test test:\n",
            "Reject NULL hypothesis - Significant differences exist between groups.\n"
          ],
          "name": "stdout"
        }
      ]
    },
    {
      "cell_type": "code",
      "metadata": {
        "id": "WTvvOD2sLwbh",
        "colab_type": "code",
        "colab": {
          "base_uri": "https://localhost:8080/",
          "height": 105
        },
        "outputId": "31134264-f1b2-4654-f797-cdb9f0780fb9"
      },
      "source": [
        "P_Tables"
      ],
      "execution_count": null,
      "outputs": [
        {
          "output_type": "execute_result",
          "data": {
            "text/html": [
              "<div>\n",
              "<style scoped>\n",
              "    .dataframe tbody tr th:only-of-type {\n",
              "        vertical-align: middle;\n",
              "    }\n",
              "\n",
              "    .dataframe tbody tr th {\n",
              "        vertical-align: top;\n",
              "    }\n",
              "\n",
              "    .dataframe thead th {\n",
              "        text-align: right;\n",
              "    }\n",
              "</style>\n",
              "<table border=\"1\" class=\"dataframe\">\n",
              "  <thead>\n",
              "    <tr style=\"text-align: right;\">\n",
              "      <th></th>\n",
              "      <th>H-value</th>\n",
              "      <th>P-Value</th>\n",
              "    </tr>\n",
              "  </thead>\n",
              "  <tbody>\n",
              "    <tr>\n",
              "      <th>cA</th>\n",
              "      <td>20.950434</td>\n",
              "      <td>4.713210e-06</td>\n",
              "    </tr>\n",
              "    <tr>\n",
              "      <th>cD1</th>\n",
              "      <td>105.540225</td>\n",
              "      <td>9.299093e-25</td>\n",
              "    </tr>\n",
              "  </tbody>\n",
              "</table>\n",
              "</div>"
            ],
            "text/plain": [
              "        H-value       P-Value\n",
              "cA    20.950434  4.713210e-06\n",
              "cD1  105.540225  9.299093e-25"
            ]
          },
          "metadata": {
            "tags": []
          },
          "execution_count": 850
        }
      ]
    },
    {
      "cell_type": "markdown",
      "metadata": {
        "id": "Nn_AjCovUX2d",
        "colab_type": "text"
      },
      "source": [
        "##VISUALISING THE FEATURES"
      ]
    },
    {
      "cell_type": "code",
      "metadata": {
        "id": "cH6hJQBr88zZ",
        "colab_type": "code",
        "colab": {
          "base_uri": "https://localhost:8080/",
          "height": 191
        },
        "outputId": "01cae9c2-6097-43e6-d7e6-ab07b995271f"
      },
      "source": [
        "import seaborn as sbn\n",
        "sbn.set(style=\"whitegrid\", palette=\"muted\")\n",
        "visDat.head(5)"
      ],
      "execution_count": null,
      "outputs": [
        {
          "output_type": "execute_result",
          "data": {
            "text/html": [
              "<div>\n",
              "<style scoped>\n",
              "    .dataframe tbody tr th:only-of-type {\n",
              "        vertical-align: middle;\n",
              "    }\n",
              "\n",
              "    .dataframe tbody tr th {\n",
              "        vertical-align: top;\n",
              "    }\n",
              "\n",
              "    .dataframe thead th {\n",
              "        text-align: right;\n",
              "    }\n",
              "</style>\n",
              "<table border=\"1\" class=\"dataframe\">\n",
              "  <thead>\n",
              "    <tr style=\"text-align: right;\">\n",
              "      <th></th>\n",
              "      <th>f1</th>\n",
              "      <th>f2</th>\n",
              "      <th>f3</th>\n",
              "      <th>f4</th>\n",
              "      <th>f5</th>\n",
              "      <th>f6</th>\n",
              "      <th>class1</th>\n",
              "    </tr>\n",
              "  </thead>\n",
              "  <tbody>\n",
              "    <tr>\n",
              "      <th>0</th>\n",
              "      <td>2.274127</td>\n",
              "      <td>0.441751</td>\n",
              "      <td>0.570275</td>\n",
              "      <td>2.239637</td>\n",
              "      <td>1.029616</td>\n",
              "      <td>0.542541</td>\n",
              "      <td>Non-Seizure</td>\n",
              "    </tr>\n",
              "    <tr>\n",
              "      <th>1</th>\n",
              "      <td>2.160172</td>\n",
              "      <td>0.497744</td>\n",
              "      <td>0.568732</td>\n",
              "      <td>2.292064</td>\n",
              "      <td>0.995775</td>\n",
              "      <td>0.545959</td>\n",
              "      <td>Non-Seizure</td>\n",
              "    </tr>\n",
              "    <tr>\n",
              "      <th>2</th>\n",
              "      <td>2.257408</td>\n",
              "      <td>0.452690</td>\n",
              "      <td>0.571829</td>\n",
              "      <td>2.272285</td>\n",
              "      <td>1.000131</td>\n",
              "      <td>0.543702</td>\n",
              "      <td>Non-Seizure</td>\n",
              "    </tr>\n",
              "    <tr>\n",
              "      <th>3</th>\n",
              "      <td>2.294445</td>\n",
              "      <td>0.606184</td>\n",
              "      <td>0.564549</td>\n",
              "      <td>2.300521</td>\n",
              "      <td>0.928181</td>\n",
              "      <td>0.548909</td>\n",
              "      <td>Non-Seizure</td>\n",
              "    </tr>\n",
              "    <tr>\n",
              "      <th>4</th>\n",
              "      <td>2.233646</td>\n",
              "      <td>0.484534</td>\n",
              "      <td>0.567958</td>\n",
              "      <td>2.298216</td>\n",
              "      <td>0.979312</td>\n",
              "      <td>0.547160</td>\n",
              "      <td>Non-Seizure</td>\n",
              "    </tr>\n",
              "  </tbody>\n",
              "</table>\n",
              "</div>"
            ],
            "text/plain": [
              "         f1        f2        f3        f4        f5        f6       class1\n",
              "0  2.274127  0.441751  0.570275  2.239637  1.029616  0.542541  Non-Seizure\n",
              "1  2.160172  0.497744  0.568732  2.292064  0.995775  0.545959  Non-Seizure\n",
              "2  2.257408  0.452690  0.571829  2.272285  1.000131  0.543702  Non-Seizure\n",
              "3  2.294445  0.606184  0.564549  2.300521  0.928181  0.548909  Non-Seizure\n",
              "4  2.233646  0.484534  0.567958  2.298216  0.979312  0.547160  Non-Seizure"
            ]
          },
          "metadata": {
            "tags": []
          },
          "execution_count": 851
        }
      ]
    },
    {
      "cell_type": "code",
      "metadata": {
        "scrolled": false,
        "id": "2KdxFinE88ze",
        "colab_type": "code",
        "colab": {
          "base_uri": "https://localhost:8080/",
          "height": 33
        },
        "outputId": "79f1edb0-622f-4639-e1b7-b94658f7b271"
      },
      "source": [
        "\"\"\"sbn.pairplot(visDat,hue='class1',palette=\"husl\")\n",
        "plt.show()\"\"\""
      ],
      "execution_count": null,
      "outputs": [
        {
          "output_type": "execute_result",
          "data": {
            "text/plain": [
              "'sbn.pairplot(visDat,hue=\\'class1\\',palette=\"husl\")\\nplt.show()'"
            ]
          },
          "metadata": {
            "tags": []
          },
          "execution_count": 852
        }
      ]
    },
    {
      "cell_type": "code",
      "metadata": {
        "id": "CBZxWh6288zg",
        "colab_type": "code",
        "colab": {
          "base_uri": "https://localhost:8080/",
          "height": 283
        },
        "outputId": "d2e338c4-00e9-48e3-d875-8e0d6742ad2b"
      },
      "source": [
        "plt.plot(visDat['f1'],'--o')"
      ],
      "execution_count": null,
      "outputs": [
        {
          "output_type": "execute_result",
          "data": {
            "text/plain": [
              "[<matplotlib.lines.Line2D at 0x7f14b0910da0>]"
            ]
          },
          "metadata": {
            "tags": []
          },
          "execution_count": 853
        },
        {
          "output_type": "display_data",
          "data": {
            "image/png": "[encoded data removed]",
            "text/plain": [
              "<Figure size 432x288 with 1 Axes>"
            ]
          },
          "metadata": {
            "tags": []
          }
        }
      ]
    },
    {
      "cell_type": "markdown",
      "metadata": {
        "id": "FghD3Xut88zj",
        "colab_type": "text"
      },
      "source": [
        "#SPLITTING THE DATASET"
      ]
    },
    {
      "cell_type": "code",
      "metadata": {
        "id": "BcA5Sd9x88zk",
        "colab_type": "code",
        "colab": {}
      },
      "source": [
        "from sklearn.model_selection import train_test_split"
      ],
      "execution_count": null,
      "outputs": []
    },
    {
      "cell_type": "code",
      "metadata": {
        "id": "uXqUoTIJ88zo",
        "colab_type": "code",
        "colab": {}
      },
      "source": [
        "X = TotalDataset[['f1','f2','f3','f4','f5','f6']]\n",
        "y = TotalDataset[['class1', 'class2']]\n",
        "X = np.asarray(X)\n",
        "y = np.asarray(y)"
      ],
      "execution_count": null,
      "outputs": []
    },
    {
      "cell_type": "code",
      "metadata": {
        "id": "oQkvmunf88zq",
        "colab_type": "code",
        "colab": {}
      },
      "source": [
        "X_train, X_test, y_train, y_test = train_test_split(X, y, test_size=0.20, random_state=42)\n",
        "from sklearn.preprocessing import StandardScaler\n",
        "sc = StandardScaler()\n",
        "X_train = sc.fit_transform(X_train)\n",
        "X_test = sc.transform(X_test)"
      ],
      "execution_count": null,
      "outputs": []
    },
    {
      "cell_type": "code",
      "metadata": {
        "id": "zzA5W585qSMh",
        "colab_type": "code",
        "colab": {
          "base_uri": "https://localhost:8080/",
          "height": 131
        },
        "outputId": "96605c1a-b84c-44c3-c2b2-79bd4ebc30e9"
      },
      "source": [
        "print(X_train)"
      ],
      "execution_count": null,
      "outputs": [
        {
          "output_type": "stream",
          "text": [
            "[[ 0.149438    0.48915887 -1.10658193  0.4981528  -2.02068095  2.64987997]\n",
            " [ 0.87466991  0.55793407 -0.1426064   0.55509344 -1.57186718  0.3927905 ]\n",
            " [ 0.7105427   1.79118388 -1.4222346   0.00856224 -0.05593606 -0.20535776]\n",
            " ...\n",
            " [ 0.00615694 -0.72678387  0.65423078  0.26950423 -0.50690656 -0.0899664 ]\n",
            " [ 0.05413871 -1.35884575  2.19092581  0.48776318  0.74086191  0.13179279]\n",
            " [ 0.47452121  0.27496333 -0.42332397 -0.39679561  0.3567361  -0.84636577]]\n"
          ],
          "name": "stdout"
        }
      ]
    },
    {
      "cell_type": "markdown",
      "metadata": {
        "id": "umiqRkmihFbu",
        "colab_type": "text"
      },
      "source": [
        "#APPLYING ARTIFICIAL NUERAL NETWORK \n",
        "A trained neural network with ten hidden neurons and a single hidden layer is employed to identify the class of a given EEG signal from its features obtained. The ANN consists of linear activation functions and hyperbolic tangent function in its output and hidden layer respectively. The neural network training algorithm used is Levenberg-Marquardt backpropagation algorithm. The output layer consists of two nodes defining each class."
      ]
    },
    {
      "cell_type": "markdown",
      "metadata": {
        "id": "Klud8fmyjTpa",
        "colab_type": "text"
      },
      "source": [
        "##TRAINING THE NEURAL NETWORK"
      ]
    },
    {
      "cell_type": "code",
      "metadata": {
        "id": "kN_LsVtIii3k",
        "colab_type": "code",
        "colab": {
          "base_uri": "https://localhost:8080/",
          "height": 1000
        },
        "outputId": "159dc595-a8ae-4940-b9ae-4ac49b3d1e0b"
      },
      "source": [
        "net = prn.CreateNN([6,10,2])\n",
        "net = prn.train_LM(X_train.T,y_train.T,net,verbose=True,k_max=100,E_stop=1e-5)\n",
        "y_pred_temp = prn.NNOut(X_test.T,net)\n",
        "y_pred_temp = y_pred_temp.T"
      ],
      "execution_count": null,
      "outputs": [
        {
          "output_type": "stream",
          "text": [
            "Iteration:  0 \t\tError:  568.5991251673405 \tscale factor:  3.0\n",
            "Iteration:  1 \t\tError:  87.3524018724678 \tscale factor:  0.3\n",
            "Iteration:  2 \t\tError:  53.255288955747474 \tscale factor:  0.3\n",
            "Iteration:  3 \t\tError:  49.5645305380901 \tscale factor:  0.3\n",
            "Iteration:  4 \t\tError:  45.05231370598482 \tscale factor:  0.3\n",
            "Iteration:  5 \t\tError:  41.120792102886384 \tscale factor:  0.3\n",
            "Iteration:  6 \t\tError:  38.50585876908285 \tscale factor:  0.3\n",
            "Iteration:  7 \t\tError:  36.09719539216316 \tscale factor:  0.03\n",
            "Iteration:  8 \t\tError:  36.04512723960201 \tscale factor:  0.03\n",
            "Iteration:  9 \t\tError:  32.2624404980942 \tscale factor:  0.03\n",
            "Iteration:  10 \t\tError:  24.608135926154084 \tscale factor:  0.03\n",
            "Iteration:  11 \t\tError:  23.436885763411826 \tscale factor:  0.03\n",
            "Iteration:  12 \t\tError:  23.21020626268653 \tscale factor:  0.03\n",
            "Iteration:  13 \t\tError:  21.967064510339778 \tscale factor:  0.03\n",
            "Iteration:  14 \t\tError:  21.08529304277761 \tscale factor:  0.03\n",
            "Iteration:  15 \t\tError:  20.567092371139537 \tscale factor:  0.03\n",
            "Iteration:  16 \t\tError:  20.135523803028057 \tscale factor:  0.03\n",
            "Iteration:  17 \t\tError:  20.080067336830098 \tscale factor:  0.03\n",
            "Iteration:  18 \t\tError:  19.64982595068322 \tscale factor:  0.03\n",
            "Iteration:  19 \t\tError:  18.461841555027775 \tscale factor:  0.03\n",
            "Iteration:  20 \t\tError:  18.04226716430886 \tscale factor:  0.03\n",
            "Iteration:  21 \t\tError:  17.62079306131482 \tscale factor:  0.03\n",
            "Iteration:  22 \t\tError:  17.211327760610708 \tscale factor:  0.03\n",
            "Iteration:  23 \t\tError:  16.852461560232417 \tscale factor:  0.03\n",
            "Iteration:  24 \t\tError:  16.543654838829823 \tscale factor:  0.03\n",
            "Iteration:  25 \t\tError:  16.27011892243131 \tscale factor:  0.03\n",
            "Iteration:  26 \t\tError:  16.027547973575917 \tscale factor:  0.03\n",
            "Iteration:  27 \t\tError:  15.817858639873847 \tscale factor:  0.03\n",
            "Iteration:  28 \t\tError:  15.638363881457531 \tscale factor:  0.03\n",
            "Iteration:  29 \t\tError:  15.481619364718812 \tscale factor:  0.03\n",
            "Iteration:  30 \t\tError:  15.341687198793998 \tscale factor:  0.03\n",
            "Iteration:  31 \t\tError:  15.312369012677973 \tscale factor:  0.003\n",
            "Iteration:  32 \t\tError:  14.402306205136915 \tscale factor:  0.003\n",
            "Iteration:  33 \t\tError:  14.074734838836726 \tscale factor:  0.003\n",
            "Iteration:  34 \t\tError:  13.754347240058811 \tscale factor:  0.003\n",
            "Iteration:  35 \t\tError:  13.46604872500852 \tscale factor:  0.003\n",
            "Iteration:  36 \t\tError:  13.199245896412293 \tscale factor:  0.003\n",
            "Iteration:  37 \t\tError:  12.975776836534543 \tscale factor:  0.003\n",
            "Iteration:  38 \t\tError:  12.772586002971346 \tscale factor:  0.003\n",
            "Iteration:  39 \t\tError:  12.584127026183914 \tscale factor:  0.003\n",
            "Iteration:  40 \t\tError:  12.228320963519494 \tscale factor:  0.003\n",
            "Iteration:  41 \t\tError:  12.006198779731129 \tscale factor:  0.003\n",
            "Iteration:  42 \t\tError:  11.812478024876985 \tscale factor:  0.003\n",
            "Iteration:  43 \t\tError:  11.632458982045785 \tscale factor:  0.003\n",
            "Iteration:  44 \t\tError:  11.44094632040622 \tscale factor:  0.003\n",
            "Iteration:  45 \t\tError:  11.228555490492342 \tscale factor:  0.003\n",
            "Iteration:  46 \t\tError:  10.993695401231598 \tscale factor:  0.003\n",
            "Iteration:  47 \t\tError:  10.84652443557085 \tscale factor:  0.00030000000000000003\n",
            "Iteration:  48 \t\tError:  10.050073428074864 \tscale factor:  0.00030000000000000003\n",
            "Iteration:  49 \t\tError:  9.75877207468061 \tscale factor:  0.00030000000000000003\n",
            "Iteration:  50 \t\tError:  9.68737248069278 \tscale factor:  0.00030000000000000003\n",
            "Iteration:  51 \t\tError:  9.487988180264583 \tscale factor:  0.00030000000000000003\n",
            "Iteration:  52 \t\tError:  9.381330256712275 \tscale factor:  0.00030000000000000003\n",
            "Iteration:  53 \t\tError:  9.292966809356212 \tscale factor:  0.003\n",
            "Iteration:  54 \t\tError:  9.25222059649765 \tscale factor:  0.003\n",
            "Iteration:  55 \t\tError:  9.23411140582775 \tscale factor:  0.003\n",
            "Iteration:  56 \t\tError:  9.21456821488634 \tscale factor:  0.003\n",
            "Iteration:  57 \t\tError:  9.19921217127214 \tscale factor:  0.003\n",
            "Iteration:  58 \t\tError:  9.183016126514923 \tscale factor:  0.003\n",
            "Iteration:  59 \t\tError:  9.167728936618026 \tscale factor:  0.003\n",
            "Iteration:  60 \t\tError:  9.15164274306316 \tscale factor:  0.003\n",
            "Iteration:  61 \t\tError:  9.135528868755081 \tscale factor:  0.003\n",
            "Iteration:  62 \t\tError:  9.118132102472032 \tscale factor:  0.003\n",
            "Iteration:  63 \t\tError:  9.09879834507273 \tscale factor:  0.003\n",
            "Iteration:  64 \t\tError:  9.078414132649138 \tscale factor:  0.003\n",
            "Iteration:  65 \t\tError:  9.060442722258301 \tscale factor:  0.003\n",
            "Iteration:  66 \t\tError:  9.03142352297927 \tscale factor:  0.00030000000000000003\n",
            "Iteration:  67 \t\tError:  8.938587598995541 \tscale factor:  0.00030000000000000003\n",
            "Iteration:  68 \t\tError:  8.917548194364642 \tscale factor:  0.00030000000000000003\n",
            "Iteration:  69 \t\tError:  8.832741218039313 \tscale factor:  0.00030000000000000003\n",
            "Iteration:  70 \t\tError:  8.788275208285249 \tscale factor:  0.00030000000000000003\n",
            "Iteration:  71 \t\tError:  8.760852645222968 \tscale factor:  0.00030000000000000003\n",
            "Iteration:  72 \t\tError:  8.739813612743523 \tscale factor:  0.00030000000000000003\n",
            "Iteration:  73 \t\tError:  8.7227789914174 \tscale factor:  0.00030000000000000003\n",
            "Iteration:  74 \t\tError:  8.708584561003265 \tscale factor:  0.00030000000000000003\n",
            "Iteration:  75 \t\tError:  8.696522210644751 \tscale factor:  0.00030000000000000003\n",
            "Iteration:  76 \t\tError:  8.68611898584933 \tscale factor:  0.00030000000000000003\n",
            "Iteration:  77 \t\tError:  8.677096799737715 \tscale factor:  0.00030000000000000003\n",
            "Iteration:  78 \t\tError:  8.67105336303932 \tscale factor:  3.0000000000000004e-05\n",
            "Iteration:  79 \t\tError:  8.613019270468943 \tscale factor:  3.0000000000000004e-05\n",
            "Iteration:  80 \t\tError:  8.607774475881207 \tscale factor:  3.0000000000000004e-05\n",
            "Iteration:  81 \t\tError:  8.600652135299566 \tscale factor:  0.00030000000000000003\n",
            "Iteration:  82 \t\tError:  8.560207138867618 \tscale factor:  0.003\n",
            "Iteration:  83 \t\tError:  8.551435975780828 \tscale factor:  0.00030000000000000003\n",
            "Iteration:  84 \t\tError:  8.540428685357403 \tscale factor:  3.0000000000000004e-05\n",
            "Iteration:  85 \t\tError:  8.536707008903127 \tscale factor:  0.00030000000000000003\n",
            "Iteration:  86 \t\tError:  8.514132013419204 \tscale factor:  0.003\n",
            "Iteration:  87 \t\tError:  8.509683411667645 \tscale factor:  0.00030000000000000003\n",
            "Iteration:  88 \t\tError:  8.495249138162258 \tscale factor:  3.0000000000000004e-05\n",
            "Iteration:  89 \t\tError:  8.491725100093632 \tscale factor:  0.00030000000000000003\n",
            "Iteration:  90 \t\tError:  8.489548780508763 \tscale factor:  0.00030000000000000003\n",
            "Iteration:  91 \t\tError:  8.488790428711752 \tscale factor:  0.00030000000000000003\n",
            "Iteration:  92 \t\tError:  8.486903114773359 \tscale factor:  0.00030000000000000003\n",
            "Iteration:  93 \t\tError:  8.480354487795982 \tscale factor:  0.003\n",
            "Iteration:  94 \t\tError:  8.477713376504038 \tscale factor:  0.00030000000000000003\n",
            "Iteration:  95 \t\tError:  8.467495301920255 \tscale factor:  3.0000000000000004e-05\n",
            "Iteration:  96 \t\tError:  8.465334517178187 \tscale factor:  0.00030000000000000003\n",
            "Iteration:  97 \t\tError:  8.461603408195664 \tscale factor:  0.003\n",
            "Iteration:  98 \t\tError:  8.460193299649509 \tscale factor:  0.00030000000000000003\n",
            "Iteration:  99 \t\tError:  8.452074843061736 \tscale factor:  3.0000000000000004e-05\n",
            "Iteration:  100 \t\tError:  8.449597767885953 \tscale factor:  0.003\n",
            "Maximum number of iterations reached\n"
          ],
          "name": "stdout"
        }
      ]
    },
    {
      "cell_type": "code",
      "metadata": {
        "id": "iFKCZHCsvnlR",
        "colab_type": "code",
        "colab": {
          "base_uri": "https://localhost:8080/",
          "height": 1000
        },
        "outputId": "bbf8411b-c2b8-46f3-89eb-37940a0373e8"
      },
      "source": [
        "print(y_pred_temp)"
      ],
      "execution_count": null,
      "outputs": [
        {
          "output_type": "stream",
          "text": [
            "[[ 1.44968787e-01  8.55031213e-01]\n",
            " [-2.31814904e-02  1.02318149e+00]\n",
            " [-3.44044138e-03  1.00344044e+00]\n",
            " [-5.48564455e-03  1.00548564e+00]\n",
            " [ 7.37590133e-03  9.92624099e-01]\n",
            " [-2.98052236e-02  1.02980522e+00]\n",
            " [-5.80627558e-02  1.05806276e+00]\n",
            " [-1.27283424e-02  1.01272834e+00]\n",
            " [-9.97695853e-02  1.09976959e+00]\n",
            " [ 8.07854781e-01  1.92145219e-01]\n",
            " [-4.58589906e-03  1.00458590e+00]\n",
            " [ 1.74316519e-01  8.25683481e-01]\n",
            " [ 1.29661090e+00 -2.96610903e-01]\n",
            " [ 1.08432026e-01  8.91567974e-01]\n",
            " [ 7.30667823e-05  9.99926933e-01]\n",
            " [-1.20994135e-02  1.01209941e+00]\n",
            " [ 9.68725162e-01  3.12748384e-02]\n",
            " [-3.31013732e-03  1.00331014e+00]\n",
            " [ 1.06164147e-02  9.89383585e-01]\n",
            " [ 6.97920851e-01  3.02079149e-01]\n",
            " [ 2.69162843e-01  7.30837157e-01]\n",
            " [ 8.59996918e-01  1.40003082e-01]\n",
            " [-8.02242602e-04  1.00080224e+00]\n",
            " [-2.54871147e-03  1.00254871e+00]\n",
            " [-3.89089298e-02  1.03890893e+00]\n",
            " [ 6.25928842e-01  3.74071158e-01]\n",
            " [ 9.00011370e-01  9.99886299e-02]\n",
            " [-4.21061247e-03  1.00421061e+00]\n",
            " [ 2.96164245e-03  9.97038358e-01]\n",
            " [ 2.50151850e-01  7.49848150e-01]\n",
            " [ 1.14433272e+00 -1.44332717e-01]\n",
            " [ 1.08247399e-01  8.91752601e-01]\n",
            " [ 9.83567833e-01  1.64321674e-02]\n",
            " [-3.43992457e-03  1.00343992e+00]\n",
            " [-6.87472705e-03  1.00687473e+00]\n",
            " [ 2.53774307e-03  9.97462257e-01]\n",
            " [ 9.10479711e-01  8.95202886e-02]\n",
            " [-9.02611820e-02  1.09026118e+00]\n",
            " [ 3.52414756e-02  9.64758524e-01]\n",
            " [ 1.56587940e-01  8.43412060e-01]\n",
            " [-4.34755152e-03  1.00434755e+00]\n",
            " [-1.85757768e-02  1.01857578e+00]\n",
            " [ 8.81629714e-01  1.18370286e-01]\n",
            " [-5.83472059e-02  1.05834721e+00]\n",
            " [ 3.48096327e-01  6.51903673e-01]\n",
            " [-4.24278371e-01  1.42427837e+00]\n",
            " [-2.60033115e-03  1.00260033e+00]\n",
            " [-4.58913570e-03  1.00458914e+00]\n",
            " [-8.22245852e-02  1.08222459e+00]\n",
            " [-5.52115951e-02  1.05521160e+00]\n",
            " [-4.66435707e-03  1.00466436e+00]\n",
            " [ 1.01515579e-02  9.89848442e-01]\n",
            " [ 3.31637798e-02  9.66836220e-01]\n",
            " [ 1.25771808e+00 -2.57718082e-01]\n",
            " [ 3.65123232e-02  9.63487677e-01]\n",
            " [ 1.36251192e-02  9.86374881e-01]\n",
            " [-4.82362642e-03  1.00482363e+00]\n",
            " [-4.52593798e-03  1.00452594e+00]\n",
            " [ 1.45287775e-01  8.54712225e-01]\n",
            " [-2.04263113e-02  1.02042631e+00]\n",
            " [-5.71050535e-02  1.05710505e+00]\n",
            " [-1.81010135e-02  1.01810101e+00]\n",
            " [ 8.37808954e-02  9.16219105e-01]\n",
            " [ 3.05630966e-01  6.94369034e-01]\n",
            " [-4.66703701e-03  1.00466704e+00]\n",
            " [-4.37815930e-02  1.04378159e+00]\n",
            " [ 7.43930155e-01  2.56069845e-01]\n",
            " [ 1.40860247e-02  9.85913975e-01]\n",
            " [ 1.61141091e-03  9.98388589e-01]\n",
            " [ 1.09817670e-02  9.89018233e-01]\n",
            " [ 2.19008615e-03  9.97809914e-01]\n",
            " [ 6.98857816e-03  9.93011422e-01]\n",
            " [ 2.61272513e-01  7.38727487e-01]\n",
            " [ 7.96910079e-02  9.20308992e-01]\n",
            " [ 1.32203806e-01  8.67796194e-01]\n",
            " [ 5.32319290e-02  9.46768071e-01]\n",
            " [ 8.19857299e-02  9.18014270e-01]\n",
            " [-2.06837117e-02  1.02068371e+00]\n",
            " [ 9.40978053e-01  5.90219468e-02]\n",
            " [ 1.09272907e+00 -9.27290668e-02]\n",
            " [ 2.64364833e-02  9.73563517e-01]\n",
            " [-4.65395897e-03  1.00465396e+00]\n",
            " [ 9.43739473e-01  5.62605274e-02]\n",
            " [-7.34342447e-03  1.00734342e+00]\n",
            " [-1.09843520e-02  1.01098435e+00]\n",
            " [-7.56162511e-02  1.07561625e+00]\n",
            " [-1.31936190e-01  1.13193619e+00]\n",
            " [ 9.33317361e-01  6.66826389e-02]\n",
            " [-1.71350244e-03  1.00171350e+00]\n",
            " [ 2.53462273e-01  7.46537727e-01]\n",
            " [ 2.68397088e-02  9.73160291e-01]\n",
            " [ 8.90874398e-01  1.09125602e-01]\n",
            " [ 1.44158121e-02  9.85584188e-01]\n",
            " [ 9.82676930e-02  9.01732307e-01]\n",
            " [ 1.37421938e+00 -3.74219382e-01]\n",
            " [ 7.12249691e-02  9.28775031e-01]\n",
            " [ 4.35681749e-03  9.95643183e-01]\n",
            " [ 2.13362082e-02  9.78663792e-01]\n",
            " [ 4.39938409e-01  5.60061591e-01]\n",
            " [ 2.09207694e-02  9.79079231e-01]]\n"
          ],
          "name": "stdout"
        }
      ]
    },
    {
      "cell_type": "code",
      "metadata": {
        "id": "_7SzuiHlwSXx",
        "colab_type": "code",
        "colab": {}
      },
      "source": [
        "Y_pred = np.zeros((100,1))\n",
        "for i in range(100):\n",
        "  Y_pred[i] = np.argmax(y_pred_temp[i,:])\n",
        "\n",
        "Y_test = np.zeros((100,1))\n",
        "for i in range(100):\n",
        "  Y_test[i] = np.argmax(y_test[i,:])"
      ],
      "execution_count": null,
      "outputs": []
    },
    {
      "cell_type": "code",
      "metadata": {
        "id": "c1fq3ou-xsOj",
        "colab_type": "code",
        "colab": {
          "base_uri": "https://localhost:8080/",
          "height": 1000
        },
        "outputId": "22275662-1237-4a4d-808d-d3c999c1fd49"
      },
      "source": [
        "print(np.concatenate((Y_pred.reshape(len(Y_pred),1), Y_test.reshape(len(Y_test),1)),1))"
      ],
      "execution_count": null,
      "outputs": [
        {
          "output_type": "stream",
          "text": [
            "[[1. 1.]\n",
            " [1. 1.]\n",
            " [1. 1.]\n",
            " [1. 1.]\n",
            " [1. 1.]\n",
            " [1. 1.]\n",
            " [1. 1.]\n",
            " [1. 1.]\n",
            " [1. 1.]\n",
            " [0. 0.]\n",
            " [1. 1.]\n",
            " [1. 1.]\n",
            " [0. 0.]\n",
            " [1. 1.]\n",
            " [1. 1.]\n",
            " [1. 1.]\n",
            " [0. 0.]\n",
            " [1. 1.]\n",
            " [1. 1.]\n",
            " [0. 0.]\n",
            " [1. 0.]\n",
            " [0. 0.]\n",
            " [1. 1.]\n",
            " [1. 1.]\n",
            " [1. 1.]\n",
            " [0. 0.]\n",
            " [0. 0.]\n",
            " [1. 1.]\n",
            " [1. 1.]\n",
            " [1. 1.]\n",
            " [0. 0.]\n",
            " [1. 1.]\n",
            " [0. 0.]\n",
            " [1. 1.]\n",
            " [1. 1.]\n",
            " [1. 1.]\n",
            " [0. 0.]\n",
            " [1. 1.]\n",
            " [1. 1.]\n",
            " [1. 1.]\n",
            " [1. 1.]\n",
            " [1. 1.]\n",
            " [0. 0.]\n",
            " [1. 1.]\n",
            " [1. 1.]\n",
            " [1. 1.]\n",
            " [1. 1.]\n",
            " [1. 1.]\n",
            " [1. 0.]\n",
            " [1. 1.]\n",
            " [1. 1.]\n",
            " [1. 1.]\n",
            " [1. 1.]\n",
            " [0. 0.]\n",
            " [1. 1.]\n",
            " [1. 1.]\n",
            " [1. 1.]\n",
            " [1. 1.]\n",
            " [1. 1.]\n",
            " [1. 1.]\n",
            " [1. 0.]\n",
            " [1. 1.]\n",
            " [1. 1.]\n",
            " [1. 0.]\n",
            " [1. 1.]\n",
            " [1. 1.]\n",
            " [0. 0.]\n",
            " [1. 1.]\n",
            " [1. 1.]\n",
            " [1. 1.]\n",
            " [1. 1.]\n",
            " [1. 1.]\n",
            " [1. 1.]\n",
            " [1. 1.]\n",
            " [1. 1.]\n",
            " [1. 1.]\n",
            " [1. 1.]\n",
            " [1. 1.]\n",
            " [0. 0.]\n",
            " [0. 0.]\n",
            " [1. 1.]\n",
            " [1. 1.]\n",
            " [0. 0.]\n",
            " [1. 1.]\n",
            " [1. 1.]\n",
            " [1. 1.]\n",
            " [1. 1.]\n",
            " [0. 0.]\n",
            " [1. 1.]\n",
            " [1. 1.]\n",
            " [1. 1.]\n",
            " [0. 0.]\n",
            " [1. 1.]\n",
            " [1. 1.]\n",
            " [0. 0.]\n",
            " [1. 1.]\n",
            " [1. 1.]\n",
            " [1. 1.]\n",
            " [1. 0.]\n",
            " [1. 1.]]\n"
          ],
          "name": "stdout"
        }
      ]
    },
    {
      "cell_type": "markdown",
      "metadata": {
        "id": "offi4gMRjf-3",
        "colab_type": "text"
      },
      "source": [
        "##CREATE CONFUSION MATRIX"
      ]
    },
    {
      "cell_type": "code",
      "metadata": {
        "id": "IUhRWXikmStV",
        "colab_type": "code",
        "colab": {
          "base_uri": "https://localhost:8080/",
          "height": 50
        },
        "outputId": "26ad7d21-46ad-4239-bb58-451d82d657e0"
      },
      "source": [
        "from sklearn.metrics import confusion_matrix, accuracy_score\n",
        "cm_ann = confusion_matrix(Y_test, Y_pred)\n",
        "print(cm_ann)\n",
        "val = accuracy_score(Y_test, Y_pred)"
      ],
      "execution_count": null,
      "outputs": [
        {
          "output_type": "stream",
          "text": [
            "[[19  5]\n",
            " [ 0 76]]\n"
          ],
          "name": "stdout"
        }
      ]
    },
    {
      "cell_type": "markdown",
      "metadata": {
        "id": "RL67nBgVM-F5",
        "colab_type": "text"
      },
      "source": [
        "##VISUALISING ROC CURVE\n"
      ]
    },
    {
      "cell_type": "code",
      "metadata": {
        "id": "Mqbk32Mt4LTa",
        "colab_type": "code",
        "colab": {
          "base_uri": "https://localhost:8080/",
          "height": 611
        },
        "outputId": "4446d19d-b818-429e-e7cd-98eeb47afa39"
      },
      "source": [
        "from sklearn.metrics import roc_curve,roc_auc_score\n",
        "\n",
        "fpr_test, tpr_test, thresholds_test = roc_curve(Y_test, Y_pred)\n",
        "auc_test = roc_auc_score(Y_test, Y_pred)\n",
        "\n",
        "plt.figure(figsize=(16,10))\n",
        "#plt.plot(fpr_train, tpr_train, 'r-',label ='Train AUC:%.3f'%auc_train)\n",
        "#plt.plot(fpr_valid, tpr_valid, 'b-',label ='Valid AUC:%.3f'%auc_valid)\n",
        "plt.plot(fpr_test, tpr_test, 'g-',label ='Test AUC:%.3f'%auc_test)\n",
        "plt.plot([0,1],[0,1],'k--')\n",
        "plt.xlabel('False Positive Rate')\n",
        "plt.ylabel('True Positive Rate')\n",
        "plt.legend()\n",
        "plt.show()"
      ],
      "execution_count": null,
      "outputs": [
        {
          "output_type": "display_data",
          "data": {
            "image/png": "[encoded data removed]",
            "text/plain": [
              "<Figure size 1152x720 with 1 Axes>"
            ]
          },
          "metadata": {
            "tags": []
          }
        }
      ]
    },
    {
      "cell_type": "markdown",
      "metadata": {
        "id": "bLmytNVglWKx",
        "colab_type": "text"
      },
      "source": [
        "#APPLYING SVM CLASSIFICATION"
      ]
    },
    {
      "cell_type": "markdown",
      "metadata": {
        "colab_type": "text",
        "id": "y0lUwdktlghQ"
      },
      "source": [
        "##TRAINING THE NEURAL NETWORK"
      ]
    },
    {
      "cell_type": "code",
      "metadata": {
        "id": "5BbMz85I5Tf1",
        "colab_type": "code",
        "colab": {
          "base_uri": "https://localhost:8080/",
          "height": 82
        },
        "outputId": "e4164d25-0dba-46f4-c830-8b117e1db83d"
      },
      "source": [
        "from sklearn.svm import SVC\n",
        "classifier = SVC(kernel = 'rbf', random_state = 0)\n",
        "classifier.fit(X_train, y_train[:,0])"
      ],
      "execution_count": null,
      "outputs": [
        {
          "output_type": "execute_result",
          "data": {
            "text/plain": [
              "SVC(C=1.0, break_ties=False, cache_size=200, class_weight=None, coef0=0.0,\n",
              "    decision_function_shape='ovr', degree=3, gamma='scale', kernel='rbf',\n",
              "    max_iter=-1, probability=False, random_state=0, shrinking=True, tol=0.001,\n",
              "    verbose=False)"
            ]
          },
          "metadata": {
            "tags": []
          },
          "execution_count": 864
        }
      ]
    },
    {
      "cell_type": "code",
      "metadata": {
        "id": "Y3QlhdQa88yC",
        "colab_type": "code",
        "colab": {
          "base_uri": "https://localhost:8080/",
          "height": 1000
        },
        "outputId": "a49fd29f-ab22-434f-c381-b9d6be9c2815"
      },
      "source": [
        "Y_train_pred_svm = classifier.predict(X_train)\n",
        "Y_pred_svm = classifier.predict(X_test)\n",
        "Y_test_svm = y_test[:, 0]\n",
        "print(np.concatenate((Y_pred_svm.reshape(len(Y_pred_svm),1), Y_test_svm.reshape(len(Y_test_svm),1)),1))"
      ],
      "execution_count": null,
      "outputs": [
        {
          "output_type": "stream",
          "text": [
            "[[0. 0.]\n",
            " [0. 0.]\n",
            " [0. 0.]\n",
            " [0. 0.]\n",
            " [0. 0.]\n",
            " [0. 0.]\n",
            " [0. 0.]\n",
            " [0. 0.]\n",
            " [0. 0.]\n",
            " [1. 1.]\n",
            " [0. 0.]\n",
            " [0. 0.]\n",
            " [1. 1.]\n",
            " [0. 0.]\n",
            " [0. 0.]\n",
            " [0. 0.]\n",
            " [1. 1.]\n",
            " [0. 0.]\n",
            " [0. 0.]\n",
            " [0. 1.]\n",
            " [0. 1.]\n",
            " [1. 1.]\n",
            " [0. 0.]\n",
            " [0. 0.]\n",
            " [0. 0.]\n",
            " [0. 1.]\n",
            " [1. 1.]\n",
            " [0. 0.]\n",
            " [0. 0.]\n",
            " [0. 0.]\n",
            " [1. 1.]\n",
            " [0. 0.]\n",
            " [1. 1.]\n",
            " [0. 0.]\n",
            " [0. 0.]\n",
            " [0. 0.]\n",
            " [1. 1.]\n",
            " [0. 0.]\n",
            " [0. 0.]\n",
            " [0. 0.]\n",
            " [0. 0.]\n",
            " [0. 0.]\n",
            " [1. 1.]\n",
            " [0. 0.]\n",
            " [0. 0.]\n",
            " [0. 0.]\n",
            " [0. 0.]\n",
            " [0. 0.]\n",
            " [0. 1.]\n",
            " [0. 0.]\n",
            " [0. 0.]\n",
            " [0. 0.]\n",
            " [0. 0.]\n",
            " [1. 1.]\n",
            " [0. 0.]\n",
            " [0. 0.]\n",
            " [0. 0.]\n",
            " [0. 0.]\n",
            " [0. 0.]\n",
            " [0. 0.]\n",
            " [0. 1.]\n",
            " [0. 0.]\n",
            " [0. 0.]\n",
            " [0. 1.]\n",
            " [0. 0.]\n",
            " [0. 0.]\n",
            " [1. 1.]\n",
            " [0. 0.]\n",
            " [0. 0.]\n",
            " [0. 0.]\n",
            " [0. 0.]\n",
            " [0. 0.]\n",
            " [0. 0.]\n",
            " [0. 0.]\n",
            " [0. 0.]\n",
            " [0. 0.]\n",
            " [0. 0.]\n",
            " [0. 0.]\n",
            " [1. 1.]\n",
            " [1. 1.]\n",
            " [0. 0.]\n",
            " [0. 0.]\n",
            " [1. 1.]\n",
            " [0. 0.]\n",
            " [0. 0.]\n",
            " [0. 0.]\n",
            " [0. 0.]\n",
            " [1. 1.]\n",
            " [0. 0.]\n",
            " [0. 0.]\n",
            " [0. 0.]\n",
            " [1. 1.]\n",
            " [0. 0.]\n",
            " [0. 0.]\n",
            " [0. 1.]\n",
            " [0. 0.]\n",
            " [0. 0.]\n",
            " [0. 0.]\n",
            " [0. 1.]\n",
            " [0. 0.]]\n"
          ],
          "name": "stdout"
        }
      ]
    },
    {
      "cell_type": "markdown",
      "metadata": {
        "colab_type": "text",
        "id": "za_yYbJ5mSSi"
      },
      "source": [
        "##CREATE CONFUSION MATRIX"
      ]
    },
    {
      "cell_type": "code",
      "metadata": {
        "id": "cl-rtC8x903v",
        "colab_type": "code",
        "colab": {
          "base_uri": "https://localhost:8080/",
          "height": 66
        },
        "outputId": "a3299c6c-1912-42e1-80fa-e9923f0331df"
      },
      "source": [
        "from sklearn.metrics import confusion_matrix, accuracy_score\n",
        "cm_svm = confusion_matrix(Y_pred_svm, Y_test_svm)\n",
        "print(cm_svm)\n",
        "accuracy_score(Y_test_svm, Y_pred_svm)"
      ],
      "execution_count": null,
      "outputs": [
        {
          "output_type": "stream",
          "text": [
            "[[76  8]\n",
            " [ 0 16]]\n"
          ],
          "name": "stdout"
        },
        {
          "output_type": "execute_result",
          "data": {
            "text/plain": [
              "0.92"
            ]
          },
          "metadata": {
            "tags": []
          },
          "execution_count": 866
        }
      ]
    },
    {
      "cell_type": "markdown",
      "metadata": {
        "colab_type": "text",
        "id": "VxDZJ3uSNH1u"
      },
      "source": [
        "##VISUALISING ROC CURVE\n"
      ]
    },
    {
      "cell_type": "code",
      "metadata": {
        "colab_type": "code",
        "id": "jKa8LNGCNKhw",
        "colab": {
          "base_uri": "https://localhost:8080/",
          "height": 611
        },
        "outputId": "bf386cf4-580c-4f35-a989-472deae08703"
      },
      "source": [
        "from sklearn.metrics import roc_curve, roc_auc_score\n",
        "\n",
        "fpr_train_svm, tpr_train_svm, thresholds_train = roc_curve(y_train[:,0], Y_train_pred_svm)\n",
        "auc_train_svm = roc_auc_score(y_train[:,0], Y_train_pred_svm)\n",
        "\n",
        "fpr_test_svm, tpr_test_svm, thresholds_test = roc_curve(Y_test_svm, Y_pred_svm)\n",
        "auc_test_svm = roc_auc_score(Y_test_svm, Y_pred_svm)\n",
        "\n",
        "plt.figure(figsize=(16,10))\n",
        "plt.plot(fpr_train_svm, tpr_train_svm, 'r-',label ='Train AUC: %.3f'%auc_train_svm)\n",
        "#plt.plot(fpr_valid, tpr_valid, 'b-',label ='Valid AUC:%.3f'%auc_valid)\n",
        "plt.plot(fpr_test_svm, tpr_test_svm, 'g-',label ='Test AUC: %.3f'%auc_test_svm)\n",
        "plt.plot([0,1],[0,1],'k--')\n",
        "plt.xlabel('False Positive Rate')\n",
        "plt.ylabel('True Positive Rate')\n",
        "plt.legend()\n",
        "plt.show()"
      ],
      "execution_count": null,
      "outputs": [
        {
          "output_type": "display_data",
          "data": {
            "image/png": "[encoded data removed]",
            "text/plain": [
              "<Figure size 1152x720 with 1 Axes>"
            ]
          },
          "metadata": {
            "tags": []
          }
        }
      ]
    },
    {
      "cell_type": "markdown",
      "metadata": {
        "id": "GeaiTl2D88zs",
        "colab_type": "text"
      },
      "source": [
        "# APPLY ANN USING TENSORFLOW\n",
        "Apply ANN using Tensorflow and ADAM backpropagation Algorithm with sigmoid activation function in the output layer"
      ]
    },
    {
      "cell_type": "markdown",
      "metadata": {
        "colab_type": "text",
        "id": "hzLemj_YmuvH"
      },
      "source": [
        "##TRAINING THE NEURAL NETWORK"
      ]
    },
    {
      "cell_type": "code",
      "metadata": {
        "id": "69_Z0F-_D46G",
        "colab_type": "code",
        "colab": {
          "base_uri": "https://localhost:8080/",
          "height": 1000
        },
        "outputId": "5dc05b83-a660-4824-a7ee-da72082306a7"
      },
      "source": [
        "ann = tf.keras.models.Sequential()\n",
        "ann.add(tf.keras.layers.Dense(units=10, activation='relu'))\n",
        "ann.add(tf.keras.layers.Dense(units=1, activation='sigmoid'))\n",
        "ann.compile(optimizer = 'adam', loss = 'binary_crossentropy', metrics = ['accuracy'])\n",
        "ann.fit(X_train, y_train[:,0], batch_size = 32, epochs = 100)"
      ],
      "execution_count": null,
      "outputs": [
        {
          "output_type": "stream",
          "text": [
            "Epoch 1/100\n",
            "13/13 [==============================] - 0s 1ms/step - loss: 0.5689 - accuracy: 0.7675\n",
            "Epoch 2/100\n",
            "13/13 [==============================] - 0s 1ms/step - loss: 0.5455 - accuracy: 0.7750\n",
            "Epoch 3/100\n",
            "13/13 [==============================] - 0s 1ms/step - loss: 0.5255 - accuracy: 0.7900\n",
            "Epoch 4/100\n",
            "13/13 [==============================] - 0s 1ms/step - loss: 0.5063 - accuracy: 0.8025\n",
            "Epoch 5/100\n",
            "13/13 [==============================] - 0s 1ms/step - loss: 0.4894 - accuracy: 0.8125\n",
            "Epoch 6/100\n",
            "13/13 [==============================] - 0s 1ms/step - loss: 0.4744 - accuracy: 0.8150\n",
            "Epoch 7/100\n",
            "13/13 [==============================] - 0s 1ms/step - loss: 0.4598 - accuracy: 0.8150\n",
            "Epoch 8/100\n",
            "13/13 [==============================] - 0s 1ms/step - loss: 0.4467 - accuracy: 0.8150\n",
            "Epoch 9/100\n",
            "13/13 [==============================] - 0s 1ms/step - loss: 0.4343 - accuracy: 0.8250\n",
            "Epoch 10/100\n",
            "13/13 [==============================] - 0s 1ms/step - loss: 0.4225 - accuracy: 0.8350\n",
            "Epoch 11/100\n",
            "13/13 [==============================] - 0s 1ms/step - loss: 0.4118 - accuracy: 0.8450\n",
            "Epoch 12/100\n",
            "13/13 [==============================] - 0s 2ms/step - loss: 0.4015 - accuracy: 0.8525\n",
            "Epoch 13/100\n",
            "13/13 [==============================] - 0s 1ms/step - loss: 0.3915 - accuracy: 0.8575\n",
            "Epoch 14/100\n",
            "13/13 [==============================] - 0s 1ms/step - loss: 0.3823 - accuracy: 0.8650\n",
            "Epoch 15/100\n",
            "13/13 [==============================] - 0s 1ms/step - loss: 0.3737 - accuracy: 0.8675\n",
            "Epoch 16/100\n",
            "13/13 [==============================] - 0s 1ms/step - loss: 0.3647 - accuracy: 0.8775\n",
            "Epoch 17/100\n",
            "13/13 [==============================] - 0s 1ms/step - loss: 0.3566 - accuracy: 0.8775\n",
            "Epoch 18/100\n",
            "13/13 [==============================] - 0s 1ms/step - loss: 0.3487 - accuracy: 0.8850\n",
            "Epoch 19/100\n",
            "13/13 [==============================] - 0s 1ms/step - loss: 0.3411 - accuracy: 0.8900\n",
            "Epoch 20/100\n",
            "13/13 [==============================] - 0s 1ms/step - loss: 0.3337 - accuracy: 0.8950\n",
            "Epoch 21/100\n",
            "13/13 [==============================] - 0s 2ms/step - loss: 0.3265 - accuracy: 0.9000\n",
            "Epoch 22/100\n",
            "13/13 [==============================] - 0s 1ms/step - loss: 0.3199 - accuracy: 0.9025\n",
            "Epoch 23/100\n",
            "13/13 [==============================] - 0s 1ms/step - loss: 0.3132 - accuracy: 0.9125\n",
            "Epoch 24/100\n",
            "13/13 [==============================] - 0s 1ms/step - loss: 0.3066 - accuracy: 0.9250\n",
            "Epoch 25/100\n",
            "13/13 [==============================] - 0s 1ms/step - loss: 0.3005 - accuracy: 0.9300\n",
            "Epoch 26/100\n",
            "13/13 [==============================] - 0s 1ms/step - loss: 0.2946 - accuracy: 0.9300\n",
            "Epoch 27/100\n",
            "13/13 [==============================] - 0s 1ms/step - loss: 0.2888 - accuracy: 0.9300\n",
            "Epoch 28/100\n",
            "13/13 [==============================] - 0s 1ms/step - loss: 0.2835 - accuracy: 0.9275\n",
            "Epoch 29/100\n",
            "13/13 [==============================] - 0s 1ms/step - loss: 0.2781 - accuracy: 0.9275\n",
            "Epoch 30/100\n",
            "13/13 [==============================] - 0s 1ms/step - loss: 0.2731 - accuracy: 0.9300\n",
            "Epoch 31/100\n",
            "13/13 [==============================] - 0s 1ms/step - loss: 0.2679 - accuracy: 0.9300\n",
            "Epoch 32/100\n",
            "13/13 [==============================] - 0s 1ms/step - loss: 0.2631 - accuracy: 0.9325\n",
            "Epoch 33/100\n",
            "13/13 [==============================] - 0s 1ms/step - loss: 0.2584 - accuracy: 0.9300\n",
            "Epoch 34/100\n",
            "13/13 [==============================] - 0s 1ms/step - loss: 0.2539 - accuracy: 0.9300\n",
            "Epoch 35/100\n",
            "13/13 [==============================] - 0s 1ms/step - loss: 0.2495 - accuracy: 0.9300\n",
            "Epoch 36/100\n",
            "13/13 [==============================] - 0s 1ms/step - loss: 0.2455 - accuracy: 0.9300\n",
            "Epoch 37/100\n",
            "13/13 [==============================] - 0s 1ms/step - loss: 0.2415 - accuracy: 0.9300\n",
            "Epoch 38/100\n",
            "13/13 [==============================] - 0s 1ms/step - loss: 0.2376 - accuracy: 0.9325\n",
            "Epoch 39/100\n",
            "13/13 [==============================] - 0s 1ms/step - loss: 0.2338 - accuracy: 0.9325\n",
            "Epoch 40/100\n",
            "13/13 [==============================] - 0s 1ms/step - loss: 0.2302 - accuracy: 0.9350\n",
            "Epoch 41/100\n",
            "13/13 [==============================] - 0s 1ms/step - loss: 0.2266 - accuracy: 0.9350\n",
            "Epoch 42/100\n",
            "13/13 [==============================] - 0s 1ms/step - loss: 0.2233 - accuracy: 0.9375\n",
            "Epoch 43/100\n",
            "13/13 [==============================] - 0s 1ms/step - loss: 0.2198 - accuracy: 0.9350\n",
            "Epoch 44/100\n",
            "13/13 [==============================] - 0s 1ms/step - loss: 0.2165 - accuracy: 0.9375\n",
            "Epoch 45/100\n",
            "13/13 [==============================] - 0s 1ms/step - loss: 0.2133 - accuracy: 0.9375\n",
            "Epoch 46/100\n",
            "13/13 [==============================] - 0s 1ms/step - loss: 0.2102 - accuracy: 0.9375\n",
            "Epoch 47/100\n",
            "13/13 [==============================] - 0s 1ms/step - loss: 0.2073 - accuracy: 0.9375\n",
            "Epoch 48/100\n",
            "13/13 [==============================] - 0s 1ms/step - loss: 0.2043 - accuracy: 0.9375\n",
            "Epoch 49/100\n",
            "13/13 [==============================] - 0s 1ms/step - loss: 0.2012 - accuracy: 0.9400\n",
            "Epoch 50/100\n",
            "13/13 [==============================] - 0s 1ms/step - loss: 0.1984 - accuracy: 0.9425\n",
            "Epoch 51/100\n",
            "13/13 [==============================] - 0s 1ms/step - loss: 0.1956 - accuracy: 0.9450\n",
            "Epoch 52/100\n",
            "13/13 [==============================] - 0s 1ms/step - loss: 0.1930 - accuracy: 0.9475\n",
            "Epoch 53/100\n",
            "13/13 [==============================] - 0s 2ms/step - loss: 0.1904 - accuracy: 0.9475\n",
            "Epoch 54/100\n",
            "13/13 [==============================] - 0s 3ms/step - loss: 0.1879 - accuracy: 0.9500\n",
            "Epoch 55/100\n",
            "13/13 [==============================] - 0s 1ms/step - loss: 0.1854 - accuracy: 0.9525\n",
            "Epoch 56/100\n",
            "13/13 [==============================] - 0s 1ms/step - loss: 0.1830 - accuracy: 0.9525\n",
            "Epoch 57/100\n",
            "13/13 [==============================] - 0s 1ms/step - loss: 0.1806 - accuracy: 0.9550\n",
            "Epoch 58/100\n",
            "13/13 [==============================] - 0s 1ms/step - loss: 0.1786 - accuracy: 0.9575\n",
            "Epoch 59/100\n",
            "13/13 [==============================] - 0s 1ms/step - loss: 0.1763 - accuracy: 0.9575\n",
            "Epoch 60/100\n",
            "13/13 [==============================] - 0s 1ms/step - loss: 0.1743 - accuracy: 0.9575\n",
            "Epoch 61/100\n",
            "13/13 [==============================] - 0s 1ms/step - loss: 0.1722 - accuracy: 0.9575\n",
            "Epoch 62/100\n",
            "13/13 [==============================] - 0s 1ms/step - loss: 0.1703 - accuracy: 0.9575\n",
            "Epoch 63/100\n",
            "13/13 [==============================] - 0s 1ms/step - loss: 0.1683 - accuracy: 0.9575\n",
            "Epoch 64/100\n",
            "13/13 [==============================] - 0s 1ms/step - loss: 0.1665 - accuracy: 0.9575\n",
            "Epoch 65/100\n",
            "13/13 [==============================] - 0s 1ms/step - loss: 0.1646 - accuracy: 0.9575\n",
            "Epoch 66/100\n",
            "13/13 [==============================] - 0s 1ms/step - loss: 0.1629 - accuracy: 0.9600\n",
            "Epoch 67/100\n",
            "13/13 [==============================] - 0s 1ms/step - loss: 0.1611 - accuracy: 0.9600\n",
            "Epoch 68/100\n",
            "13/13 [==============================] - 0s 2ms/step - loss: 0.1593 - accuracy: 0.9600\n",
            "Epoch 69/100\n",
            "13/13 [==============================] - 0s 1ms/step - loss: 0.1577 - accuracy: 0.9600\n",
            "Epoch 70/100\n",
            "13/13 [==============================] - 0s 1ms/step - loss: 0.1562 - accuracy: 0.9600\n",
            "Epoch 71/100\n",
            "13/13 [==============================] - 0s 1ms/step - loss: 0.1545 - accuracy: 0.9600\n",
            "Epoch 72/100\n",
            "13/13 [==============================] - 0s 1ms/step - loss: 0.1531 - accuracy: 0.9600\n",
            "Epoch 73/100\n",
            "13/13 [==============================] - 0s 1ms/step - loss: 0.1519 - accuracy: 0.9600\n",
            "Epoch 74/100\n",
            "13/13 [==============================] - 0s 1ms/step - loss: 0.1504 - accuracy: 0.9625\n",
            "Epoch 75/100\n",
            "13/13 [==============================] - 0s 1ms/step - loss: 0.1489 - accuracy: 0.9625\n",
            "Epoch 76/100\n",
            "13/13 [==============================] - 0s 1ms/step - loss: 0.1474 - accuracy: 0.9625\n",
            "Epoch 77/100\n",
            "13/13 [==============================] - 0s 1ms/step - loss: 0.1462 - accuracy: 0.9625\n",
            "Epoch 78/100\n",
            "13/13 [==============================] - 0s 1ms/step - loss: 0.1447 - accuracy: 0.9625\n",
            "Epoch 79/100\n",
            "13/13 [==============================] - 0s 1ms/step - loss: 0.1435 - accuracy: 0.9625\n",
            "Epoch 80/100\n",
            "13/13 [==============================] - 0s 1ms/step - loss: 0.1426 - accuracy: 0.9675\n",
            "Epoch 81/100\n",
            "13/13 [==============================] - 0s 1ms/step - loss: 0.1410 - accuracy: 0.9675\n",
            "Epoch 82/100\n",
            "13/13 [==============================] - 0s 1ms/step - loss: 0.1397 - accuracy: 0.9675\n",
            "Epoch 83/100\n",
            "13/13 [==============================] - 0s 1ms/step - loss: 0.1385 - accuracy: 0.9675\n",
            "Epoch 84/100\n",
            "13/13 [==============================] - 0s 2ms/step - loss: 0.1373 - accuracy: 0.9675\n",
            "Epoch 85/100\n",
            "13/13 [==============================] - 0s 1ms/step - loss: 0.1362 - accuracy: 0.9675\n",
            "Epoch 86/100\n",
            "13/13 [==============================] - 0s 2ms/step - loss: 0.1351 - accuracy: 0.9700\n",
            "Epoch 87/100\n",
            "13/13 [==============================] - 0s 1ms/step - loss: 0.1340 - accuracy: 0.9700\n",
            "Epoch 88/100\n",
            "13/13 [==============================] - 0s 1ms/step - loss: 0.1329 - accuracy: 0.9700\n",
            "Epoch 89/100\n",
            "13/13 [==============================] - 0s 1ms/step - loss: 0.1319 - accuracy: 0.9700\n",
            "Epoch 90/100\n",
            "13/13 [==============================] - 0s 1ms/step - loss: 0.1309 - accuracy: 0.9700\n",
            "Epoch 91/100\n",
            "13/13 [==============================] - 0s 1ms/step - loss: 0.1299 - accuracy: 0.9700\n",
            "Epoch 92/100\n",
            "13/13 [==============================] - 0s 1ms/step - loss: 0.1288 - accuracy: 0.9700\n",
            "Epoch 93/100\n",
            "13/13 [==============================] - 0s 1ms/step - loss: 0.1279 - accuracy: 0.9700\n",
            "Epoch 94/100\n",
            "13/13 [==============================] - 0s 1ms/step - loss: 0.1269 - accuracy: 0.9700\n",
            "Epoch 95/100\n",
            "13/13 [==============================] - 0s 1ms/step - loss: 0.1261 - accuracy: 0.9700\n",
            "Epoch 96/100\n",
            "13/13 [==============================] - 0s 1ms/step - loss: 0.1251 - accuracy: 0.9700\n",
            "Epoch 97/100\n",
            "13/13 [==============================] - 0s 1ms/step - loss: 0.1244 - accuracy: 0.9725\n",
            "Epoch 98/100\n",
            "13/13 [==============================] - 0s 1ms/step - loss: 0.1234 - accuracy: 0.9725\n",
            "Epoch 99/100\n",
            "13/13 [==============================] - 0s 1ms/step - loss: 0.1225 - accuracy: 0.9725\n",
            "Epoch 100/100\n",
            "13/13 [==============================] - 0s 1ms/step - loss: 0.1219 - accuracy: 0.9725\n"
          ],
          "name": "stdout"
        },
        {
          "output_type": "execute_result",
          "data": {
            "text/plain": [
              "<tensorflow.python.keras.callbacks.History at 0x7f14b02edcc0>"
            ]
          },
          "metadata": {
            "tags": []
          },
          "execution_count": 868
        }
      ]
    },
    {
      "cell_type": "code",
      "metadata": {
        "id": "PGPISxq7EXmx",
        "colab_type": "code",
        "colab": {}
      },
      "source": [
        "Y_pred_tf = ann.predict(X_test)\n",
        "Y_pred_tf = (Y_pred_tf > 0.5)\n",
        "Y_train_pred_tf = ann.predict(X_train)\n",
        "Y_train_pred_tf = (Y_train_pred_tf > 0.5)"
      ],
      "execution_count": null,
      "outputs": []
    },
    {
      "cell_type": "markdown",
      "metadata": {
        "colab_type": "text",
        "id": "yDeITU_Lmrwi"
      },
      "source": [
        "##CREATE CONFUSION MATRIX"
      ]
    },
    {
      "cell_type": "code",
      "metadata": {
        "colab_type": "code",
        "id": "2nUDjDD2m1hp",
        "colab": {
          "base_uri": "https://localhost:8080/",
          "height": 66
        },
        "outputId": "7b418b40-379f-4114-d203-b93ee52cbe3f"
      },
      "source": [
        "from sklearn.metrics import confusion_matrix, accuracy_score\n",
        "cm_tf = confusion_matrix(Y_pred_tf, Y_test_svm)\n",
        "print(cm_tf)\n",
        "accuracy_score(Y_pred_tf, Y_test_svm)"
      ],
      "execution_count": null,
      "outputs": [
        {
          "output_type": "stream",
          "text": [
            "[[76  5]\n",
            " [ 0 19]]\n"
          ],
          "name": "stdout"
        },
        {
          "output_type": "execute_result",
          "data": {
            "text/plain": [
              "0.95"
            ]
          },
          "metadata": {
            "tags": []
          },
          "execution_count": 870
        }
      ]
    },
    {
      "cell_type": "markdown",
      "metadata": {
        "colab_type": "text",
        "id": "kS8hAt62OfX0"
      },
      "source": [
        "##VISUALISING ROC CURVE\n"
      ]
    },
    {
      "cell_type": "code",
      "metadata": {
        "id": "B1fa7XF94oxU",
        "colab_type": "code",
        "colab": {
          "base_uri": "https://localhost:8080/",
          "height": 627
        },
        "outputId": "107660b4-284f-4c0c-e86f-12d2ebfb8a97"
      },
      "source": [
        "from sklearn.metrics import roc_curve, roc_auc_score\n",
        "\n",
        "fpr_train_tf, tpr_train_tf, thresholds_train_tf = roc_curve(y_train[:,0], Y_train_pred_tf)\n",
        "auc_train_tf = roc_auc_score(y_train[:,0], Y_train_pred_tf)\n",
        "\n",
        "fpr_test_tf, tpr_test_tf, thresholds_test_tf = roc_curve(Y_test_svm, Y_pred_tf)\n",
        "auc_test_tf = roc_auc_score(Y_test_svm, Y_pred_tf)\n",
        "\n",
        "plt.figure(figsize=(16,10))\n",
        "plt.plot(fpr_train_tf, tpr_train_tf, 'r-',label ='Train AUC: %.3f'%auc_train_tf)\n",
        "plt.plot(fpr_test_tf, tpr_test_tf, 'g-',label ='Test AUC: %.3f'%auc_test_tf)\n",
        "plt.plot([0,1],[0,1],'k--')\n",
        "plt.xlabel('False Positive Rate')\n",
        "plt.ylabel('True Positive Rate')\n",
        "plt.legend()\n",
        "plt.show()\n",
        "print"
      ],
      "execution_count": null,
      "outputs": [
        {
          "output_type": "display_data",
          "data": {
            "image/png": "[encoded data removed]",
            "text/plain": [
              "<Figure size 1152x720 with 1 Axes>"
            ]
          },
          "metadata": {
            "tags": []
          }
        },
        {
          "output_type": "execute_result",
          "data": {
            "text/plain": [
              "<function print>"
            ]
          },
          "metadata": {
            "tags": []
          },
          "execution_count": 871
        }
      ]
    },
    {
      "cell_type": "markdown",
      "metadata": {
        "id": "eFrGM-xe5ple",
        "colab_type": "text"
      },
      "source": [
        "#BUILDING ANN MODEL USING CROSS VALIDATION"
      ]
    },
    {
      "cell_type": "code",
      "metadata": {
        "id": "Hiwvi1B_5QIa",
        "colab_type": "code",
        "colab": {}
      },
      "source": [
        "def build_classifier():\n",
        "  ann = tf.keras.models.Sequential()\n",
        "  ann.add(tf.keras.layers.Dense(units=10, activation='relu'))\n",
        "  ann.add(tf.keras.layers.Dense(units=1, activation='sigmoid'))\n",
        "  ann.compile(optimizer = 'adam', loss = 'binary_crossentropy', metrics = ['accuracy'])\n",
        "  return ann\n"
      ],
      "execution_count": null,
      "outputs": []
    },
    {
      "cell_type": "code",
      "metadata": {
        "id": "yHmkinqD5Xoz",
        "colab_type": "code",
        "colab": {
          "base_uri": "https://localhost:8080/",
          "height": 50
        },
        "outputId": "873601e1-f68e-4a7b-b867-74820d7f9ccb"
      },
      "source": [
        "classifier = KerasClassifier(build_fn=build_classifier, batch_size=10, nb_epoch=150)\n",
        "accuracies =  cross_val_score(estimator=classifier, X= X_train, y=y_train[:,0],cv=10, n_jobs=-1)\n",
        "\n",
        "accuracies"
      ],
      "execution_count": null,
      "outputs": [
        {
          "output_type": "execute_result",
          "data": {
            "text/plain": [
              "array([0.47499999, 0.47499999, 0.85000002, 0.125     , 0.89999998,\n",
              "       0.55000001, 0.72500002, 0.72500002, 0.60000002, 0.875     ])"
            ]
          },
          "metadata": {
            "tags": []
          },
          "execution_count": 873
        }
      ]
    },
    {
      "cell_type": "code",
      "metadata": {
        "id": "u0daHVoS5dJc",
        "colab_type": "code",
        "colab": {
          "base_uri": "https://localhost:8080/",
          "height": 50
        },
        "outputId": "6074fe8d-8aa2-44e3-9594-d06f7b85c1e2"
      },
      "source": [
        "print(accuracies.mean())\n",
        "print(accuracies.std())"
      ],
      "execution_count": null,
      "outputs": [
        {
          "output_type": "stream",
          "text": [
            "0.6300000071525573\n",
            "0.22577643965510455\n"
          ],
          "name": "stdout"
        }
      ]
    },
    {
      "cell_type": "code",
      "metadata": {
        "id": "6vCAHxlgcRRm",
        "colab_type": "code",
        "colab": {
          "base_uri": "https://localhost:8080/",
          "height": 53
        },
        "outputId": "64d8cfb0-828e-453c-d979-3dd3bd9dad60"
      },
      "source": [
        "final_values.append(val)\n"
      ],
      "execution_count": null,
      "outputs": [
        {
          "output_type": "execute_result",
          "data": {
            "text/plain": [
              "\"import csv\\n\\n\\nwith open('sales.csv', 'w') as csv_file:\\n    csv_writer = csv.writer(csv_file, delimiter=',')\\n    csv_writer.writerow(weekdays)\\n    csv_writer.writerow(sales)\""
            ]
          },
          "metadata": {
            "tags": []
          },
          "execution_count": 875
        }
      ]
    },
    {
      "cell_type": "code",
      "metadata": {
        "id": "HjXHNmo0feHl",
        "colab_type": "code",
        "colab": {
          "base_uri": "https://localhost:8080/",
          "height": 33
        },
        "outputId": "fb7afda7-a3fa-4474-c5de-08057d58299e"
      },
      "source": [
        "print(final_values)"
      ],
      "execution_count": null,
      "outputs": [
        {
          "output_type": "stream",
          "text": [
            "[0.9, 0.93, 0.94, 0.98, 0.96, 0.94, 0.99, 0.96, 0.95, 0.95, 0.95, 0.97, 0.96, 0.92, 0.95]\n"
          ],
          "name": "stdout"
        }
      ]
    },
    {
      "cell_type": "code",
      "metadata": {
        "id": "rkgeSRVZf-az",
        "colab_type": "code",
        "colab": {}
      },
      "source": [
        "import csv\n",
        "\n",
        "\n",
        "with open('values.csv', 'w') as csv_file:\n",
        "    csv_writer = csv.writer(csv_file, delimiter=',')\n",
        "    csv_writer.writerow(final_values)\n",
        "    "
      ],
      "execution_count": null,
      "outputs": []
    },
    {
      "cell_type": "code",
      "metadata": {
        "id": "aW7BiaXJlQAs",
        "colab_type": "code",
        "colab": {}
      },
      "source": [
        ""
      ],
      "execution_count": null,
      "outputs": []
    }
  ]
}